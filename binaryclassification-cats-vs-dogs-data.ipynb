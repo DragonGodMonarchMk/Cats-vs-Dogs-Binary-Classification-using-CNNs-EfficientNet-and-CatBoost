{
 "cells": [
  {
   "cell_type": "markdown",
   "id": "9270b056",
   "metadata": {
    "papermill": {
     "duration": 0.005869,
     "end_time": "2025-06-02T04:38:03.522751",
     "exception": false,
     "start_time": "2025-06-02T04:38:03.516882",
     "status": "completed"
    },
    "tags": []
   },
   "source": [
    "# Binary Classification Project: Cats vs. Dogs\n",
    "\n",
    "This project focuses on classifying images of cats and dogs using machine learning and deep learning techniques. \n",
    "\n",
    "We explore two approaches: a Random Forest model for traditional machine learning and a Convolutional Neural Network (CNN) for deep learning. \n",
    "\n",
    "The dataset consists of images from the Kaggle Cats and Dogs dataset. We preprocess the images by resizing them to 64x64 pixels, normalizing pixel values, and applying data augmentation for the CNN. \n",
    "Hyperparameter tuning is performed using GridSearchCV for the Random Forest model, while the CNN is optimized with early stopping, varying epochs, and batch sizes. \n",
    "The best CNN model achieves an accuracy of 92%, with balanced precision, recall, and F1-scores for both classes, making it the optimal choice for this binary classification task."
   ]
  },
  {
   "cell_type": "markdown",
   "id": "cf03aced",
   "metadata": {
    "papermill": {
     "duration": 0.004998,
     "end_time": "2025-06-02T04:38:03.532881",
     "exception": false,
     "start_time": "2025-06-02T04:38:03.527883",
     "status": "completed"
    },
    "tags": []
   },
   "source": [
    "# Binary Classification Project"
   ]
  },
  {
   "cell_type": "code",
   "execution_count": 1,
   "id": "d2be56dd",
   "metadata": {
    "execution": {
     "iopub.execute_input": "2025-06-02T04:38:03.544965Z",
     "iopub.status.busy": "2025-06-02T04:38:03.544692Z",
     "iopub.status.idle": "2025-06-02T04:38:20.333291Z",
     "shell.execute_reply": "2025-06-02T04:38:20.332646Z"
    },
    "papermill": {
     "duration": 16.795687,
     "end_time": "2025-06-02T04:38:20.334738",
     "exception": false,
     "start_time": "2025-06-02T04:38:03.539051",
     "status": "completed"
    },
    "tags": []
   },
   "outputs": [
    {
     "name": "stderr",
     "output_type": "stream",
     "text": [
      "2025-06-02 04:38:08.825412: E external/local_xla/xla/stream_executor/cuda/cuda_fft.cc:477] Unable to register cuFFT factory: Attempting to register factory for plugin cuFFT when one has already been registered\n",
      "WARNING: All log messages before absl::InitializeLog() is called are written to STDERR\n",
      "E0000 00:00:1748839089.007157      19 cuda_dnn.cc:8310] Unable to register cuDNN factory: Attempting to register factory for plugin cuDNN when one has already been registered\n",
      "E0000 00:00:1748839089.060943      19 cuda_blas.cc:1418] Unable to register cuBLAS factory: Attempting to register factory for plugin cuBLAS when one has already been registered\n"
     ]
    }
   ],
   "source": [
    "import os\n",
    "import cv2 #library for computer vision tasks.\n",
    "import numpy as np #library for numerical computations\n",
    "from sklearn.model_selection import train_test_split #function from scikit-learn, which splits data into training and testing sets.\n",
    "from sklearn.ensemble import RandomForestClassifier #machine learning model that builds multiple decision trees and combines their predictions for classification.\n",
    "from sklearn.model_selection import GridSearchCV\n",
    "from sklearn.metrics import accuracy_score, classification_report, confusion_matrix\n",
    "import matplotlib.pyplot as plt\n",
    "import seaborn as sns\n",
    "import tensorflow as tf\n",
    "from tensorflow.keras.models import Sequential\n",
    "from tensorflow.keras.layers import Conv2D, MaxPooling2D, Dense, Flatten, Dropout\n",
    "from tensorflow.keras.preprocessing.image import ImageDataGenerator\n",
    "from tensorflow.keras.callbacks import EarlyStopping\n",
    "from tensorflow.keras import layers"
   ]
  },
  {
   "cell_type": "code",
   "execution_count": 2,
   "id": "2c60bd84",
   "metadata": {
    "execution": {
     "iopub.execute_input": "2025-06-02T04:38:20.346823Z",
     "iopub.status.busy": "2025-06-02T04:38:20.345877Z",
     "iopub.status.idle": "2025-06-02T04:38:20.349605Z",
     "shell.execute_reply": "2025-06-02T04:38:20.349037Z"
    },
    "papermill": {
     "duration": 0.010461,
     "end_time": "2025-06-02T04:38:20.350651",
     "exception": false,
     "start_time": "2025-06-02T04:38:20.340190",
     "status": "completed"
    },
    "tags": []
   },
   "outputs": [],
   "source": [
    "cat_data = \"/kaggle/input/dog-and-cat-classification-dataset/PetImages/Cat\"\n",
    "dog_data = \"/kaggle/input/dog-and-cat-classification-dataset/PetImages/Dog\""
   ]
  },
  {
   "cell_type": "markdown",
   "id": "78ea810f",
   "metadata": {
    "papermill": {
     "duration": 0.004771,
     "end_time": "2025-06-02T04:38:20.360481",
     "exception": false,
     "start_time": "2025-06-02T04:38:20.355710",
     "status": "completed"
    },
    "tags": []
   },
   "source": [
    "# Random Forest model - Machine learning"
   ]
  },
  {
   "cell_type": "markdown",
   "id": "7e4478be",
   "metadata": {
    "papermill": {
     "duration": 0.004612,
     "end_time": "2025-06-02T04:38:20.369951",
     "exception": false,
     "start_time": "2025-06-02T04:38:20.365339",
     "status": "completed"
    },
    "tags": []
   },
   "source": [
    "## 1. Simple model"
   ]
  },
  {
   "cell_type": "code",
   "execution_count": 3,
   "id": "03b4f71a",
   "metadata": {
    "execution": {
     "iopub.execute_input": "2025-06-02T04:38:20.380712Z",
     "iopub.status.busy": "2025-06-02T04:38:20.380411Z",
     "iopub.status.idle": "2025-06-02T04:38:20.385236Z",
     "shell.execute_reply": "2025-06-02T04:38:20.384694Z"
    },
    "papermill": {
     "duration": 0.011431,
     "end_time": "2025-06-02T04:38:20.386242",
     "exception": false,
     "start_time": "2025-06-02T04:38:20.374811",
     "status": "completed"
    },
    "tags": []
   },
   "outputs": [],
   "source": [
    "# Function to load and preprocess images\n",
    "def load_data(directory, label):\n",
    "    for filename in os.listdir(directory):\n",
    "        img_path = os.path.join(directory, filename)\n",
    "        \n",
    "        try:\n",
    "            # Load image in RGB (default for cv2.imread) - bgr not \n",
    "            img = cv2.imread(img_path) \n",
    "            \n",
    "            if img is None or img.size == 0:  # Check for None or empty image\n",
    "                #print(f\"Skipping invalid image: {img_path}\")\n",
    "                continue\n",
    "\n",
    "            # Resize image to 64x64\n",
    "            img = cv2.resize(img, (64, 64))  # Shape will be (64, 64, 3)\n",
    "\n",
    "            # Flatten image to 1D array 64 * 64 * 3 = 12288 features\n",
    "            img = img.flatten()  # Flattens to a 1D array of 12288 values\n",
    "\n",
    "            # Add image to data list\n",
    "            data.append(img)\n",
    "\n",
    "            # Add label to data label\n",
    "            labels.append(label)\n",
    "            \n",
    "        except Exception as e:\n",
    "            #print(f\"Error processing {img_path}: {str(e)}\")\n",
    "            continue"
   ]
  },
  {
   "cell_type": "code",
   "execution_count": 4,
   "id": "344e91fe",
   "metadata": {
    "execution": {
     "iopub.execute_input": "2025-06-02T04:38:20.396766Z",
     "iopub.status.busy": "2025-06-02T04:38:20.396541Z",
     "iopub.status.idle": "2025-06-02T04:43:49.088682Z",
     "shell.execute_reply": "2025-06-02T04:43:49.087838Z"
    },
    "papermill": {
     "duration": 328.69907,
     "end_time": "2025-06-02T04:43:49.090197",
     "exception": false,
     "start_time": "2025-06-02T04:38:20.391127",
     "status": "completed"
    },
    "tags": []
   },
   "outputs": [
    {
     "name": "stderr",
     "output_type": "stream",
     "text": [
      "Corrupt JPEG data: 239 extraneous bytes before marker 0xd9\n",
      "Corrupt JPEG data: 99 extraneous bytes before marker 0xd9\n",
      "Corrupt JPEG data: 214 extraneous bytes before marker 0xd9\n",
      "Corrupt JPEG data: 128 extraneous bytes before marker 0xd9\n",
      "Corrupt JPEG data: 1153 extraneous bytes before marker 0xd9\n",
      "Corrupt JPEG data: 226 extraneous bytes before marker 0xd9\n",
      "Corrupt JPEG data: 65 extraneous bytes before marker 0xd9\n",
      "Warning: unknown JFIF revision number 0.00\n",
      "Corrupt JPEG data: 254 extraneous bytes before marker 0xd9\n",
      "Corrupt JPEG data: 1403 extraneous bytes before marker 0xd9\n",
      "Corrupt JPEG data: 162 extraneous bytes before marker 0xd9\n",
      "Corrupt JPEG data: 2230 extraneous bytes before marker 0xd9\n",
      "Corrupt JPEG data: 399 extraneous bytes before marker 0xd9\n"
     ]
    }
   ],
   "source": [
    "# Parameters\n",
    "data = []\n",
    "labels = []\n",
    "\n",
    "# Load cat and dog images\n",
    "load_data(cat_data, 0)  # Label 0 for cats\n",
    "load_data(dog_data, 1)  # Label 1 for dogs\n",
    "\n",
    "# Convert data and labels to numpy arrays\n",
    "data = np.array(data)  # Shape: (n_samples, 64 * 64 * 3)\n",
    "labels = np.array(labels)  # Shape: (n_samples,)\n",
    "\n",
    "# Normalize pixel values to [0, 1]\n",
    "data = data / 255"
   ]
  },
  {
   "cell_type": "code",
   "execution_count": 5,
   "id": "55487c28",
   "metadata": {
    "execution": {
     "iopub.execute_input": "2025-06-02T04:43:49.102602Z",
     "iopub.status.busy": "2025-06-02T04:43:49.101981Z",
     "iopub.status.idle": "2025-06-02T04:43:49.106555Z",
     "shell.execute_reply": "2025-06-02T04:43:49.105797Z"
    },
    "papermill": {
     "duration": 0.01167,
     "end_time": "2025-06-02T04:43:49.107567",
     "exception": false,
     "start_time": "2025-06-02T04:43:49.095897",
     "status": "completed"
    },
    "tags": []
   },
   "outputs": [
    {
     "name": "stdout",
     "output_type": "stream",
     "text": [
      "[[0.1254902  0.08235294 0.0627451  ... 0.64313725 0.61176471 0.60784314]\n",
      " [0.91764706 0.94901961 0.94901961 ... 0.4        0.34117647 0.34509804]]\n"
     ]
    }
   ],
   "source": [
    "print(data[0:2])"
   ]
  },
  {
   "cell_type": "code",
   "execution_count": 6,
   "id": "2a81ce1f",
   "metadata": {
    "execution": {
     "iopub.execute_input": "2025-06-02T04:43:49.119058Z",
     "iopub.status.busy": "2025-06-02T04:43:49.118844Z",
     "iopub.status.idle": "2025-06-02T04:43:49.122854Z",
     "shell.execute_reply": "2025-06-02T04:43:49.122167Z"
    },
    "papermill": {
     "duration": 0.011022,
     "end_time": "2025-06-02T04:43:49.123976",
     "exception": false,
     "start_time": "2025-06-02T04:43:49.112954",
     "status": "completed"
    },
    "tags": []
   },
   "outputs": [
    {
     "name": "stdout",
     "output_type": "stream",
     "text": [
      "[0 0 0 ... 1 1 1]\n"
     ]
    }
   ],
   "source": [
    "print(labels)"
   ]
  },
  {
   "cell_type": "code",
   "execution_count": 7,
   "id": "2ba69ca5",
   "metadata": {
    "execution": {
     "iopub.execute_input": "2025-06-02T04:43:49.135751Z",
     "iopub.status.busy": "2025-06-02T04:43:49.135532Z",
     "iopub.status.idle": "2025-06-02T04:43:49.840704Z",
     "shell.execute_reply": "2025-06-02T04:43:49.839848Z"
    },
    "papermill": {
     "duration": 0.712664,
     "end_time": "2025-06-02T04:43:49.842367",
     "exception": false,
     "start_time": "2025-06-02T04:43:49.129703",
     "status": "completed"
    },
    "tags": []
   },
   "outputs": [],
   "source": [
    "# Split data into training and testing sets\n",
    "X_trainrf, X_testrf, y_trainrf, y_testrf = train_test_split(data, labels, test_size=0.2, random_state=42, shuffle= True)"
   ]
  },
  {
   "cell_type": "code",
   "execution_count": 8,
   "id": "6e997354",
   "metadata": {
    "execution": {
     "iopub.execute_input": "2025-06-02T04:43:49.855281Z",
     "iopub.status.busy": "2025-06-02T04:43:49.854577Z",
     "iopub.status.idle": "2025-06-02T04:49:39.527018Z",
     "shell.execute_reply": "2025-06-02T04:49:39.526340Z"
    },
    "papermill": {
     "duration": 349.685777,
     "end_time": "2025-06-02T04:49:39.534251",
     "exception": false,
     "start_time": "2025-06-02T04:43:49.848474",
     "status": "completed"
    },
    "tags": []
   },
   "outputs": [
    {
     "data": {
      "text/html": [
       "<style>#sk-container-id-1 {color: black;background-color: white;}#sk-container-id-1 pre{padding: 0;}#sk-container-id-1 div.sk-toggleable {background-color: white;}#sk-container-id-1 label.sk-toggleable__label {cursor: pointer;display: block;width: 100%;margin-bottom: 0;padding: 0.3em;box-sizing: border-box;text-align: center;}#sk-container-id-1 label.sk-toggleable__label-arrow:before {content: \"▸\";float: left;margin-right: 0.25em;color: #696969;}#sk-container-id-1 label.sk-toggleable__label-arrow:hover:before {color: black;}#sk-container-id-1 div.sk-estimator:hover label.sk-toggleable__label-arrow:before {color: black;}#sk-container-id-1 div.sk-toggleable__content {max-height: 0;max-width: 0;overflow: hidden;text-align: left;background-color: #f0f8ff;}#sk-container-id-1 div.sk-toggleable__content pre {margin: 0.2em;color: black;border-radius: 0.25em;background-color: #f0f8ff;}#sk-container-id-1 input.sk-toggleable__control:checked~div.sk-toggleable__content {max-height: 200px;max-width: 100%;overflow: auto;}#sk-container-id-1 input.sk-toggleable__control:checked~label.sk-toggleable__label-arrow:before {content: \"▾\";}#sk-container-id-1 div.sk-estimator input.sk-toggleable__control:checked~label.sk-toggleable__label {background-color: #d4ebff;}#sk-container-id-1 div.sk-label input.sk-toggleable__control:checked~label.sk-toggleable__label {background-color: #d4ebff;}#sk-container-id-1 input.sk-hidden--visually {border: 0;clip: rect(1px 1px 1px 1px);clip: rect(1px, 1px, 1px, 1px);height: 1px;margin: -1px;overflow: hidden;padding: 0;position: absolute;width: 1px;}#sk-container-id-1 div.sk-estimator {font-family: monospace;background-color: #f0f8ff;border: 1px dotted black;border-radius: 0.25em;box-sizing: border-box;margin-bottom: 0.5em;}#sk-container-id-1 div.sk-estimator:hover {background-color: #d4ebff;}#sk-container-id-1 div.sk-parallel-item::after {content: \"\";width: 100%;border-bottom: 1px solid gray;flex-grow: 1;}#sk-container-id-1 div.sk-label:hover label.sk-toggleable__label {background-color: #d4ebff;}#sk-container-id-1 div.sk-serial::before {content: \"\";position: absolute;border-left: 1px solid gray;box-sizing: border-box;top: 0;bottom: 0;left: 50%;z-index: 0;}#sk-container-id-1 div.sk-serial {display: flex;flex-direction: column;align-items: center;background-color: white;padding-right: 0.2em;padding-left: 0.2em;position: relative;}#sk-container-id-1 div.sk-item {position: relative;z-index: 1;}#sk-container-id-1 div.sk-parallel {display: flex;align-items: stretch;justify-content: center;background-color: white;position: relative;}#sk-container-id-1 div.sk-item::before, #sk-container-id-1 div.sk-parallel-item::before {content: \"\";position: absolute;border-left: 1px solid gray;box-sizing: border-box;top: 0;bottom: 0;left: 50%;z-index: -1;}#sk-container-id-1 div.sk-parallel-item {display: flex;flex-direction: column;z-index: 1;position: relative;background-color: white;}#sk-container-id-1 div.sk-parallel-item:first-child::after {align-self: flex-end;width: 50%;}#sk-container-id-1 div.sk-parallel-item:last-child::after {align-self: flex-start;width: 50%;}#sk-container-id-1 div.sk-parallel-item:only-child::after {width: 0;}#sk-container-id-1 div.sk-dashed-wrapped {border: 1px dashed gray;margin: 0 0.4em 0.5em 0.4em;box-sizing: border-box;padding-bottom: 0.4em;background-color: white;}#sk-container-id-1 div.sk-label label {font-family: monospace;font-weight: bold;display: inline-block;line-height: 1.2em;}#sk-container-id-1 div.sk-label-container {text-align: center;}#sk-container-id-1 div.sk-container {/* jupyter's `normalize.less` sets `[hidden] { display: none; }` but bootstrap.min.css set `[hidden] { display: none !important; }` so we also need the `!important` here to be able to override the default hidden behavior on the sphinx rendered scikit-learn.org. See: https://github.com/scikit-learn/scikit-learn/issues/21755 */display: inline-block !important;position: relative;}#sk-container-id-1 div.sk-text-repr-fallback {display: none;}</style><div id=\"sk-container-id-1\" class=\"sk-top-container\"><div class=\"sk-text-repr-fallback\"><pre>RandomForestClassifier(n_estimators=200, random_state=42)</pre><b>In a Jupyter environment, please rerun this cell to show the HTML representation or trust the notebook. <br />On GitHub, the HTML representation is unable to render, please try loading this page with nbviewer.org.</b></div><div class=\"sk-container\" hidden><div class=\"sk-item\"><div class=\"sk-estimator sk-toggleable\"><input class=\"sk-toggleable__control sk-hidden--visually\" id=\"sk-estimator-id-1\" type=\"checkbox\" checked><label for=\"sk-estimator-id-1\" class=\"sk-toggleable__label sk-toggleable__label-arrow\">RandomForestClassifier</label><div class=\"sk-toggleable__content\"><pre>RandomForestClassifier(n_estimators=200, random_state=42)</pre></div></div></div></div></div>"
      ],
      "text/plain": [
       "RandomForestClassifier(n_estimators=200, random_state=42)"
      ]
     },
     "execution_count": 8,
     "metadata": {},
     "output_type": "execute_result"
    }
   ],
   "source": [
    "#--Update change n_estimators from 100 to 200\n",
    "\n",
    "# Train the Random Forest model\n",
    "rf_model = RandomForestClassifier(n_estimators=200, random_state=42)\n",
    "rf_model.fit(X_trainrf, y_trainrf)"
   ]
  },
  {
   "cell_type": "code",
   "execution_count": 9,
   "id": "634a116b",
   "metadata": {
    "execution": {
     "iopub.execute_input": "2025-06-02T04:49:39.546788Z",
     "iopub.status.busy": "2025-06-02T04:49:39.546525Z",
     "iopub.status.idle": "2025-06-02T04:49:42.038303Z",
     "shell.execute_reply": "2025-06-02T04:49:42.037490Z"
    },
    "papermill": {
     "duration": 2.499161,
     "end_time": "2025-06-02T04:49:42.039435",
     "exception": false,
     "start_time": "2025-06-02T04:49:39.540274",
     "status": "completed"
    },
    "tags": []
   },
   "outputs": [
    {
     "name": "stdout",
     "output_type": "stream",
     "text": [
      "Model accuracy in training:  0.9999498897574665\n"
     ]
    }
   ],
   "source": [
    "# Make predictions on training data - to check if underfitting happened\n",
    "y_predrf = rf_model.predict(X_trainrf)\n",
    "\n",
    "# Evaluate the model\n",
    "accuracy = accuracy_score(y_trainrf, y_predrf)\n",
    "print(\"Model accuracy in training: \",accuracy)"
   ]
  },
  {
   "cell_type": "code",
   "execution_count": 10,
   "id": "eaf6972a",
   "metadata": {
    "execution": {
     "iopub.execute_input": "2025-06-02T04:49:42.051988Z",
     "iopub.status.busy": "2025-06-02T04:49:42.051758Z",
     "iopub.status.idle": "2025-06-02T04:49:42.689786Z",
     "shell.execute_reply": "2025-06-02T04:49:42.688905Z"
    },
    "papermill": {
     "duration": 0.645571,
     "end_time": "2025-06-02T04:49:42.691062",
     "exception": false,
     "start_time": "2025-06-02T04:49:42.045491",
     "status": "completed"
    },
    "tags": []
   },
   "outputs": [
    {
     "name": "stdout",
     "output_type": "stream",
     "text": [
      "Model accuracy in testing:  0.6587174348697394\n"
     ]
    }
   ],
   "source": [
    "# Make predictions on testing data\n",
    "y_predrf = rf_model.predict(X_testrf)\n",
    "\n",
    "# Evaluate the model\n",
    "accuracy = accuracy_score(y_testrf, y_predrf)\n",
    "print(\"Model accuracy in testing: \",accuracy)"
   ]
  },
  {
   "cell_type": "code",
   "execution_count": 11,
   "id": "0fcccd75",
   "metadata": {
    "execution": {
     "iopub.execute_input": "2025-06-02T04:49:42.705415Z",
     "iopub.status.busy": "2025-06-02T04:49:42.704957Z",
     "iopub.status.idle": "2025-06-02T04:49:42.918005Z",
     "shell.execute_reply": "2025-06-02T04:49:42.917270Z"
    },
    "papermill": {
     "duration": 0.221046,
     "end_time": "2025-06-02T04:49:42.919145",
     "exception": false,
     "start_time": "2025-06-02T04:49:42.698099",
     "status": "completed"
    },
    "tags": []
   },
   "outputs": [
    {
     "name": "stdout",
     "output_type": "stream",
     "text": [
      "\n",
      "Classification Report for Random Forest Algorithm:\n",
      "              precision    recall  f1-score   support\n",
      "\n",
      "         Cat       0.65      0.70      0.68      2547\n",
      "         Dog       0.66      0.61      0.64      2443\n",
      "\n",
      "    accuracy                           0.66      4990\n",
      "   macro avg       0.66      0.66      0.66      4990\n",
      "weighted avg       0.66      0.66      0.66      4990\n",
      "\n"
     ]
    },
    {
     "data": {
      "image/png": "[encoded data removed]",
      "text/plain": [
       "<Figure size 600x400 with 2 Axes>"
      ]
     },
     "metadata": {},
     "output_type": "display_data"
    }
   ],
   "source": [
    "# Classification report\n",
    "print(\"\\nClassification Report for Random Forest Algorithm:\")\n",
    "print(classification_report(y_testrf, y_predrf, target_names=[\"Cat\", \"Dog\"]))\n",
    "\n",
    "# Confusion matrix\n",
    "cm = confusion_matrix(y_testrf, y_predrf)\n",
    "plt.figure(figsize=(6,4))\n",
    "sns.heatmap(cm, annot=True, fmt=\"d\", cmap=\"Blues\", xticklabels=[\"Cat\", \"Dog\"], yticklabels=[\"Cat\", \"Dog\"])\n",
    "plt.title(\"Confusion Matrix\")\n",
    "plt.xlabel(\"Predicted\")\n",
    "plt.ylabel(\"Actual\")\n",
    "plt.show()"
   ]
  },
  {
   "cell_type": "markdown",
   "id": "fee2b6fe",
   "metadata": {
    "papermill": {
     "duration": 0.005959,
     "end_time": "2025-06-02T04:49:42.931649",
     "exception": false,
     "start_time": "2025-06-02T04:49:42.925690",
     "status": "completed"
    },
    "tags": []
   },
   "source": [
    "## 2. Update RF using GridSearch "
   ]
  },
  {
   "cell_type": "code",
   "execution_count": 12,
   "id": "dc2b6608",
   "metadata": {
    "execution": {
     "iopub.execute_input": "2025-06-02T04:49:42.944520Z",
     "iopub.status.busy": "2025-06-02T04:49:42.944293Z",
     "iopub.status.idle": "2025-06-02T04:51:56.448844Z",
     "shell.execute_reply": "2025-06-02T04:51:56.447895Z"
    },
    "papermill": {
     "duration": 133.512529,
     "end_time": "2025-06-02T04:51:56.450089",
     "exception": false,
     "start_time": "2025-06-02T04:49:42.937560",
     "status": "completed"
    },
    "tags": []
   },
   "outputs": [
    {
     "name": "stdout",
     "output_type": "stream",
     "text": [
      "Fitting 3 folds for each of 2 candidates, totalling 6 fits\n",
      "Time taken: 131.48420238494873 seconds\n",
      "Best parameters found:  {'rf__bootstrap': True, 'rf__max_depth': 15, 'rf__min_samples_leaf': 4, 'rf__min_samples_split': 5, 'rf__n_estimators': 100}\n",
      "Best RF Model Accuracy on Training Set:  0.9802565644417719\n",
      "Best RF Model Accuracy on Test Set:  0.6356713426853707\n"
     ]
    }
   ],
   "source": [
    "import time\n",
    "import faulthandler\n",
    "from sklearn.decomposition import PCA\n",
    "from sklearn.pipeline import Pipeline\n",
    "from sklearn.model_selection import GridSearchCV\n",
    "from sklearn.ensemble import RandomForestClassifier\n",
    "from sklearn.metrics import accuracy_score\n",
    "\n",
    "# Enable faulthandler for better debugging\n",
    "faulthandler.enable()\n",
    "\n",
    "# Flatten input data if not already done\n",
    "X_trainrf = X_trainrf.reshape(X_trainrf.shape[0], -1)  # Shape: (n_samples, 4096)\n",
    "X_testrf = X_testrf.reshape(X_testrf.shape[0], -1)\n",
    "\n",
    "# Define the base model with PCA\n",
    "rf = RandomForestClassifier(random_state=42, class_weight='balanced')\n",
    "pca = PCA(n_components=100, random_state=42)  # Fixed number of components\n",
    "\n",
    "# Create pipeline\n",
    "pipeline = Pipeline([\n",
    "    ('pca', pca),\n",
    "    ('rf', rf)\n",
    "])\n",
    "\n",
    "# Simplified parameter grid\n",
    "param_grid = {\n",
    "    'rf__n_estimators': [100],\n",
    "    'rf__max_depth': [10, 15],\n",
    "    'rf__min_samples_split': [5],\n",
    "    'rf__min_samples_leaf': [4],\n",
    "    'rf__bootstrap': [True]\n",
    "}\n",
    "\n",
    "# Setup the grid search with cross-validation\n",
    "grid_search = GridSearchCV(\n",
    "    estimator=pipeline,\n",
    "    param_grid=param_grid,\n",
    "    cv=3,\n",
    "    n_jobs=2,  # Use 2 cores\n",
    "    verbose=2,\n",
    "    scoring='accuracy'\n",
    ")\n",
    "\n",
    "# Fit GridSearch to the training data with timing\n",
    "start_time = time.time()\n",
    "grid_search.fit(X_trainrf, y_trainrf)\n",
    "print(f\"Time taken: {time.time() - start_time} seconds\")\n",
    "\n",
    "# Best parameters found\n",
    "print(\"Best parameters found: \", grid_search.best_params_)\n",
    "\n",
    "# Use the best estimator to make predictions\n",
    "best_rf_model = grid_search.best_estimator_\n",
    "\n",
    "# Predict on training and testing sets\n",
    "y_train_pred = best_rf_model.predict(X_trainrf)\n",
    "y_test_pred = best_rf_model.predict(X_testrf)\n",
    "\n",
    "# Evaluate accuracy\n",
    "train_accuracy = accuracy_score(y_trainrf, y_train_pred)\n",
    "test_accuracy = accuracy_score(y_testrf, y_test_pred)\n",
    "\n",
    "print(\"Best RF Model Accuracy on Training Set: \", train_accuracy)\n",
    "print(\"Best RF Model Accuracy on Test Set: \", test_accuracy)"
   ]
  },
  {
   "cell_type": "markdown",
   "id": "7a33c525",
   "metadata": {
    "papermill": {
     "duration": 0.006648,
     "end_time": "2025-06-02T04:51:56.463560",
     "exception": false,
     "start_time": "2025-06-02T04:51:56.456912",
     "status": "completed"
    },
    "tags": []
   },
   "source": [
    "___"
   ]
  },
  {
   "cell_type": "markdown",
   "id": "561c2b99",
   "metadata": {
    "papermill": {
     "duration": 0.006413,
     "end_time": "2025-06-02T04:51:56.476544",
     "exception": false,
     "start_time": "2025-06-02T04:51:56.470131",
     "status": "completed"
    },
    "tags": []
   },
   "source": [
    "# CNN - Deep Learning\n",
    "\n",
    "CNNs are better suited for image data as they preserve spatial information, unlike the flattening approach used for Random Forest."
   ]
  },
  {
   "cell_type": "markdown",
   "id": "21bb04a1",
   "metadata": {
    "papermill": {
     "duration": 0.006488,
     "end_time": "2025-06-02T04:51:56.489511",
     "exception": false,
     "start_time": "2025-06-02T04:51:56.483023",
     "status": "completed"
    },
    "tags": []
   },
   "source": [
    "## 1. Model 1 using Grayscale image"
   ]
  },
  {
   "cell_type": "code",
   "execution_count": 13,
   "id": "5b5c813d",
   "metadata": {
    "execution": {
     "iopub.execute_input": "2025-06-02T04:51:56.503844Z",
     "iopub.status.busy": "2025-06-02T04:51:56.503175Z",
     "iopub.status.idle": "2025-06-02T04:53:14.470722Z",
     "shell.execute_reply": "2025-06-02T04:53:14.469952Z"
    },
    "papermill": {
     "duration": 77.976118,
     "end_time": "2025-06-02T04:53:14.472054",
     "exception": false,
     "start_time": "2025-06-02T04:51:56.495936",
     "status": "completed"
    },
    "tags": []
   },
   "outputs": [
    {
     "name": "stdout",
     "output_type": "stream",
     "text": [
      "Loading images...\n"
     ]
    },
    {
     "name": "stderr",
     "output_type": "stream",
     "text": [
      "Corrupt JPEG data: 239 extraneous bytes before marker 0xd9\n",
      "Corrupt JPEG data: 99 extraneous bytes before marker 0xd9\n",
      "Corrupt JPEG data: 214 extraneous bytes before marker 0xd9\n",
      "Corrupt JPEG data: 128 extraneous bytes before marker 0xd9\n",
      "Corrupt JPEG data: 1153 extraneous bytes before marker 0xd9\n",
      "Corrupt JPEG data: 226 extraneous bytes before marker 0xd9\n",
      "Corrupt JPEG data: 65 extraneous bytes before marker 0xd9\n",
      "Warning: unknown JFIF revision number 0.00\n",
      "Corrupt JPEG data: 254 extraneous bytes before marker 0xd9\n",
      "Corrupt JPEG data: 1403 extraneous bytes before marker 0xd9\n",
      "Corrupt JPEG data: 162 extraneous bytes before marker 0xd9\n",
      "Corrupt JPEG data: 2230 extraneous bytes before marker 0xd9\n",
      "Corrupt JPEG data: 399 extraneous bytes before marker 0xd9\n"
     ]
    },
    {
     "name": "stdout",
     "output_type": "stream",
     "text": [
      "Images shape:  (24946, 64, 64, 1)\n"
     ]
    }
   ],
   "source": [
    "# Settings for CNN model\n",
    "images = []    # List to store images\n",
    "imgs_labels = []    # List to store labels (0 for cat, 1 for dog)\n",
    "\n",
    "# Function to load images from a folder\n",
    "def load_images(folder, label):\n",
    "    \n",
    "    for file in os.listdir(folder):\n",
    "        file_path = os.path.join(folder, file)\n",
    "        \n",
    "        try:\n",
    "            # Read image in grayscale\n",
    "            img = cv2.imread(file_path, cv2.IMREAD_GRAYSCALE) #change grayscale\n",
    "            if img is None:\n",
    "                continue\n",
    "            \n",
    "            # Resize image to 64x64\n",
    "            img = cv2.resize(img, (64, 64))\n",
    "            \n",
    "            # Add channel dimension (64, 64, 1) as CNNs expect input data to have 3 dimensions per image:(height, width, channels)\n",
    "            img = img.reshape(64, 64, 1)\n",
    "            \n",
    "            images.append(img)\n",
    "            imgs_labels.append(label)\n",
    "            \n",
    "        except:\n",
    "            #print(f\"Skipped {file_path}\")\n",
    "            continue\n",
    "\n",
    "# Load cat and dog images\n",
    "print(\"Loading images...\")\n",
    "load_images(cat_data, 0)  # 0 for cats\n",
    "load_images(dog_data, 1)  # 1 for dogs\n",
    "\n",
    "# Convert lists to arrays\n",
    "images = np.array(images)\n",
    "imgs_labels = np.array(imgs_labels)\n",
    "\n",
    "# Normalize images (make pixel values between 0 and 1)\n",
    "images = images / 255\n",
    "\n",
    "# Check the shape of the data\n",
    "print(\"Images shape: \", images.shape)  # (n_samples, 64, 64, 1)"
   ]
  },
  {
   "cell_type": "code",
   "execution_count": 14,
   "id": "2c46ce24",
   "metadata": {
    "execution": {
     "iopub.execute_input": "2025-06-02T04:53:14.487464Z",
     "iopub.status.busy": "2025-06-02T04:53:14.487014Z",
     "iopub.status.idle": "2025-06-02T04:53:14.726469Z",
     "shell.execute_reply": "2025-06-02T04:53:14.725611Z"
    },
    "papermill": {
     "duration": 0.248299,
     "end_time": "2025-06-02T04:53:14.727931",
     "exception": false,
     "start_time": "2025-06-02T04:53:14.479632",
     "status": "completed"
    },
    "tags": []
   },
   "outputs": [],
   "source": [
    "# Split data into training and testing sets\n",
    "X_trainCNN, X_testCNN, y_trainCNN, y_testCNN = train_test_split(images, imgs_labels, test_size=0.2, random_state=42)"
   ]
  },
  {
   "cell_type": "code",
   "execution_count": 15,
   "id": "b959dc28",
   "metadata": {
    "execution": {
     "iopub.execute_input": "2025-06-02T04:53:14.743615Z",
     "iopub.status.busy": "2025-06-02T04:53:14.743368Z",
     "iopub.status.idle": "2025-06-02T04:55:34.489209Z",
     "shell.execute_reply": "2025-06-02T04:55:34.488595Z"
    },
    "papermill": {
     "duration": 139.754819,
     "end_time": "2025-06-02T04:55:34.490451",
     "exception": false,
     "start_time": "2025-06-02T04:53:14.735632",
     "status": "completed"
    },
    "tags": []
   },
   "outputs": [
    {
     "name": "stderr",
     "output_type": "stream",
     "text": [
      "/usr/local/lib/python3.11/dist-packages/keras/src/layers/convolutional/base_conv.py:107: UserWarning: Do not pass an `input_shape`/`input_dim` argument to a layer. When using Sequential models, prefer using an `Input(shape)` object as the first layer in the model instead.\n",
      "  super().__init__(activity_regularizer=activity_regularizer, **kwargs)\n",
      "I0000 00:00:1748839995.764787      19 gpu_device.cc:2022] Created device /job:localhost/replica:0/task:0/device:GPU:0 with 15513 MB memory:  -> device: 0, name: Tesla P100-PCIE-16GB, pci bus id: 0000:00:04.0, compute capability: 6.0\n"
     ]
    },
    {
     "name": "stdout",
     "output_type": "stream",
     "text": [
      "Testing the model...\n",
      "Epoch 1/50\n"
     ]
    },
    {
     "name": "stderr",
     "output_type": "stream",
     "text": [
      "WARNING: All log messages before absl::InitializeLog() is called are written to STDERR\n",
      "I0000 00:00:1748839999.840368      71 service.cc:148] XLA service 0x7905140033c0 initialized for platform CUDA (this does not guarantee that XLA will be used). Devices:\n",
      "I0000 00:00:1748839999.840894      71 service.cc:156]   StreamExecutor device (0): Tesla P100-PCIE-16GB, Compute Capability 6.0\n",
      "I0000 00:00:1748840000.122197      71 cuda_dnn.cc:529] Loaded cuDNN version 90300\n"
     ]
    },
    {
     "name": "stdout",
     "output_type": "stream",
     "text": [
      "\u001b[1m 45/624\u001b[0m \u001b[32m━\u001b[0m\u001b[37m━━━━━━━━━━━━━━━━━━━\u001b[0m \u001b[1m2s\u001b[0m 4ms/step - accuracy: 0.4986 - loss: 0.7074"
     ]
    },
    {
     "name": "stderr",
     "output_type": "stream",
     "text": [
      "I0000 00:00:1748840002.108795      71 device_compiler.h:188] Compiled cluster using XLA!  This line is logged at most once for the lifetime of the process.\n"
     ]
    },
    {
     "name": "stdout",
     "output_type": "stream",
     "text": [
      "\u001b[1m624/624\u001b[0m \u001b[32m━━━━━━━━━━━━━━━━━━━━\u001b[0m\u001b[37m\u001b[0m \u001b[1m9s\u001b[0m 8ms/step - accuracy: 0.6072 - loss: 0.6522 - val_accuracy: 0.7419 - val_loss: 0.5279\n",
      "Epoch 2/50\n",
      "\u001b[1m624/624\u001b[0m \u001b[32m━━━━━━━━━━━━━━━━━━━━\u001b[0m\u001b[37m\u001b[0m \u001b[1m3s\u001b[0m 4ms/step - accuracy: 0.7500 - loss: 0.5154 - val_accuracy: 0.7391 - val_loss: 0.5266\n",
      "Epoch 3/50\n",
      "\u001b[1m624/624\u001b[0m \u001b[32m━━━━━━━━━━━━━━━━━━━━\u001b[0m\u001b[37m\u001b[0m \u001b[1m3s\u001b[0m 4ms/step - accuracy: 0.7886 - loss: 0.4557 - val_accuracy: 0.7798 - val_loss: 0.4584\n",
      "Epoch 4/50\n",
      "\u001b[1m624/624\u001b[0m \u001b[32m━━━━━━━━━━━━━━━━━━━━\u001b[0m\u001b[37m\u001b[0m \u001b[1m3s\u001b[0m 4ms/step - accuracy: 0.8101 - loss: 0.4055 - val_accuracy: 0.7854 - val_loss: 0.4554\n",
      "Epoch 5/50\n",
      "\u001b[1m624/624\u001b[0m \u001b[32m━━━━━━━━━━━━━━━━━━━━\u001b[0m\u001b[37m\u001b[0m \u001b[1m3s\u001b[0m 4ms/step - accuracy: 0.8403 - loss: 0.3593 - val_accuracy: 0.7972 - val_loss: 0.4461\n",
      "Epoch 6/50\n",
      "\u001b[1m624/624\u001b[0m \u001b[32m━━━━━━━━━━━━━━━━━━━━\u001b[0m\u001b[37m\u001b[0m \u001b[1m3s\u001b[0m 4ms/step - accuracy: 0.8641 - loss: 0.3186 - val_accuracy: 0.7964 - val_loss: 0.4826\n",
      "Epoch 7/50\n",
      "\u001b[1m624/624\u001b[0m \u001b[32m━━━━━━━━━━━━━━━━━━━━\u001b[0m\u001b[37m\u001b[0m \u001b[1m3s\u001b[0m 4ms/step - accuracy: 0.8909 - loss: 0.2638 - val_accuracy: 0.7986 - val_loss: 0.4741\n",
      "Epoch 8/50\n",
      "\u001b[1m624/624\u001b[0m \u001b[32m━━━━━━━━━━━━━━━━━━━━\u001b[0m\u001b[37m\u001b[0m \u001b[1m3s\u001b[0m 4ms/step - accuracy: 0.9140 - loss: 0.2131 - val_accuracy: 0.8036 - val_loss: 0.4901\n",
      "Epoch 9/50\n",
      "\u001b[1m624/624\u001b[0m \u001b[32m━━━━━━━━━━━━━━━━━━━━\u001b[0m\u001b[37m\u001b[0m \u001b[1m3s\u001b[0m 4ms/step - accuracy: 0.9259 - loss: 0.1839 - val_accuracy: 0.7936 - val_loss: 0.5323\n",
      "Epoch 10/50\n",
      "\u001b[1m624/624\u001b[0m \u001b[32m━━━━━━━━━━━━━━━━━━━━\u001b[0m\u001b[37m\u001b[0m \u001b[1m3s\u001b[0m 4ms/step - accuracy: 0.9436 - loss: 0.1467 - val_accuracy: 0.8036 - val_loss: 0.5601\n",
      "Epoch 11/50\n",
      "\u001b[1m624/624\u001b[0m \u001b[32m━━━━━━━━━━━━━━━━━━━━\u001b[0m\u001b[37m\u001b[0m \u001b[1m3s\u001b[0m 4ms/step - accuracy: 0.9503 - loss: 0.1356 - val_accuracy: 0.8048 - val_loss: 0.6256\n",
      "Epoch 12/50\n",
      "\u001b[1m624/624\u001b[0m \u001b[32m━━━━━━━━━━━━━━━━━━━━\u001b[0m\u001b[37m\u001b[0m \u001b[1m3s\u001b[0m 4ms/step - accuracy: 0.9584 - loss: 0.1091 - val_accuracy: 0.8006 - val_loss: 0.6635\n",
      "Epoch 13/50\n",
      "\u001b[1m624/624\u001b[0m \u001b[32m━━━━━━━━━━━━━━━━━━━━\u001b[0m\u001b[37m\u001b[0m \u001b[1m3s\u001b[0m 4ms/step - accuracy: 0.9656 - loss: 0.0938 - val_accuracy: 0.7870 - val_loss: 0.7459\n",
      "Epoch 14/50\n",
      "\u001b[1m624/624\u001b[0m \u001b[32m━━━━━━━━━━━━━━━━━━━━\u001b[0m\u001b[37m\u001b[0m \u001b[1m3s\u001b[0m 4ms/step - accuracy: 0.9628 - loss: 0.0973 - val_accuracy: 0.7944 - val_loss: 0.7115\n",
      "Epoch 15/50\n",
      "\u001b[1m624/624\u001b[0m \u001b[32m━━━━━━━━━━━━━━━━━━━━\u001b[0m\u001b[37m\u001b[0m \u001b[1m3s\u001b[0m 4ms/step - accuracy: 0.9718 - loss: 0.0744 - val_accuracy: 0.8044 - val_loss: 0.8203\n",
      "Epoch 16/50\n",
      "\u001b[1m624/624\u001b[0m \u001b[32m━━━━━━━━━━━━━━━━━━━━\u001b[0m\u001b[37m\u001b[0m \u001b[1m3s\u001b[0m 4ms/step - accuracy: 0.9749 - loss: 0.0679 - val_accuracy: 0.7990 - val_loss: 0.7958\n",
      "Epoch 17/50\n",
      "\u001b[1m624/624\u001b[0m \u001b[32m━━━━━━━━━━━━━━━━━━━━\u001b[0m\u001b[37m\u001b[0m \u001b[1m3s\u001b[0m 4ms/step - accuracy: 0.9763 - loss: 0.0638 - val_accuracy: 0.8064 - val_loss: 0.8545\n",
      "Epoch 18/50\n",
      "\u001b[1m624/624\u001b[0m \u001b[32m━━━━━━━━━━━━━━━━━━━━\u001b[0m\u001b[37m\u001b[0m \u001b[1m3s\u001b[0m 4ms/step - accuracy: 0.9758 - loss: 0.0631 - val_accuracy: 0.7986 - val_loss: 0.8953\n",
      "Epoch 19/50\n",
      "\u001b[1m624/624\u001b[0m \u001b[32m━━━━━━━━━━━━━━━━━━━━\u001b[0m\u001b[37m\u001b[0m \u001b[1m3s\u001b[0m 4ms/step - accuracy: 0.9756 - loss: 0.0685 - val_accuracy: 0.7958 - val_loss: 0.8897\n",
      "Epoch 20/50\n",
      "\u001b[1m624/624\u001b[0m \u001b[32m━━━━━━━━━━━━━━━━━━━━\u001b[0m\u001b[37m\u001b[0m \u001b[1m3s\u001b[0m 4ms/step - accuracy: 0.9798 - loss: 0.0578 - val_accuracy: 0.8002 - val_loss: 0.8987\n",
      "Epoch 21/50\n",
      "\u001b[1m624/624\u001b[0m \u001b[32m━━━━━━━━━━━━━━━━━━━━\u001b[0m\u001b[37m\u001b[0m \u001b[1m3s\u001b[0m 4ms/step - accuracy: 0.9840 - loss: 0.0484 - val_accuracy: 0.8002 - val_loss: 0.9404\n",
      "Epoch 22/50\n",
      "\u001b[1m624/624\u001b[0m \u001b[32m━━━━━━━━━━━━━━━━━━━━\u001b[0m\u001b[37m\u001b[0m \u001b[1m3s\u001b[0m 4ms/step - accuracy: 0.9834 - loss: 0.0450 - val_accuracy: 0.8008 - val_loss: 0.9504\n",
      "Epoch 23/50\n",
      "\u001b[1m624/624\u001b[0m \u001b[32m━━━━━━━━━━━━━━━━━━━━\u001b[0m\u001b[37m\u001b[0m \u001b[1m3s\u001b[0m 4ms/step - accuracy: 0.9844 - loss: 0.0432 - val_accuracy: 0.7998 - val_loss: 1.0814\n",
      "Epoch 24/50\n",
      "\u001b[1m624/624\u001b[0m \u001b[32m━━━━━━━━━━━━━━━━━━━━\u001b[0m\u001b[37m\u001b[0m \u001b[1m3s\u001b[0m 4ms/step - accuracy: 0.9837 - loss: 0.0430 - val_accuracy: 0.8004 - val_loss: 1.1108\n",
      "Epoch 25/50\n",
      "\u001b[1m624/624\u001b[0m \u001b[32m━━━━━━━━━━━━━━━━━━━━\u001b[0m\u001b[37m\u001b[0m \u001b[1m3s\u001b[0m 4ms/step - accuracy: 0.9833 - loss: 0.0448 - val_accuracy: 0.8000 - val_loss: 0.9684\n",
      "Epoch 26/50\n",
      "\u001b[1m624/624\u001b[0m \u001b[32m━━━━━━━━━━━━━━━━━━━━\u001b[0m\u001b[37m\u001b[0m \u001b[1m3s\u001b[0m 4ms/step - accuracy: 0.9835 - loss: 0.0452 - val_accuracy: 0.7992 - val_loss: 1.0909\n",
      "Epoch 27/50\n",
      "\u001b[1m624/624\u001b[0m \u001b[32m━━━━━━━━━━━━━━━━━━━━\u001b[0m\u001b[37m\u001b[0m \u001b[1m3s\u001b[0m 4ms/step - accuracy: 0.9839 - loss: 0.0429 - val_accuracy: 0.8020 - val_loss: 1.1664\n",
      "Epoch 28/50\n",
      "\u001b[1m624/624\u001b[0m \u001b[32m━━━━━━━━━━━━━━━━━━━━\u001b[0m\u001b[37m\u001b[0m \u001b[1m3s\u001b[0m 4ms/step - accuracy: 0.9834 - loss: 0.0434 - val_accuracy: 0.8042 - val_loss: 1.1838\n",
      "Epoch 29/50\n",
      "\u001b[1m624/624\u001b[0m \u001b[32m━━━━━━━━━━━━━━━━━━━━\u001b[0m\u001b[37m\u001b[0m \u001b[1m3s\u001b[0m 4ms/step - accuracy: 0.9840 - loss: 0.0432 - val_accuracy: 0.7958 - val_loss: 1.2247\n",
      "Epoch 30/50\n",
      "\u001b[1m624/624\u001b[0m \u001b[32m━━━━━━━━━━━━━━━━━━━━\u001b[0m\u001b[37m\u001b[0m \u001b[1m3s\u001b[0m 4ms/step - accuracy: 0.9840 - loss: 0.0443 - val_accuracy: 0.7749 - val_loss: 1.4007\n",
      "Epoch 31/50\n",
      "\u001b[1m624/624\u001b[0m \u001b[32m━━━━━━━━━━━━━━━━━━━━\u001b[0m\u001b[37m\u001b[0m \u001b[1m3s\u001b[0m 4ms/step - accuracy: 0.9860 - loss: 0.0402 - val_accuracy: 0.8036 - val_loss: 1.1766\n",
      "Epoch 32/50\n",
      "\u001b[1m624/624\u001b[0m \u001b[32m━━━━━━━━━━━━━━━━━━━━\u001b[0m\u001b[37m\u001b[0m \u001b[1m3s\u001b[0m 4ms/step - accuracy: 0.9860 - loss: 0.0397 - val_accuracy: 0.8000 - val_loss: 1.1980\n",
      "Epoch 33/50\n",
      "\u001b[1m624/624\u001b[0m \u001b[32m━━━━━━━━━━━━━━━━━━━━\u001b[0m\u001b[37m\u001b[0m \u001b[1m3s\u001b[0m 4ms/step - accuracy: 0.9864 - loss: 0.0347 - val_accuracy: 0.7982 - val_loss: 1.3642\n",
      "Epoch 34/50\n",
      "\u001b[1m624/624\u001b[0m \u001b[32m━━━━━━━━━━━━━━━━━━━━\u001b[0m\u001b[37m\u001b[0m \u001b[1m3s\u001b[0m 4ms/step - accuracy: 0.9892 - loss: 0.0328 - val_accuracy: 0.8006 - val_loss: 1.2860\n",
      "Epoch 35/50\n",
      "\u001b[1m624/624\u001b[0m \u001b[32m━━━━━━━━━━━━━━━━━━━━\u001b[0m\u001b[37m\u001b[0m \u001b[1m3s\u001b[0m 4ms/step - accuracy: 0.9835 - loss: 0.0467 - val_accuracy: 0.8012 - val_loss: 1.2002\n",
      "Epoch 36/50\n",
      "\u001b[1m624/624\u001b[0m \u001b[32m━━━━━━━━━━━━━━━━━━━━\u001b[0m\u001b[37m\u001b[0m \u001b[1m3s\u001b[0m 4ms/step - accuracy: 0.9880 - loss: 0.0314 - val_accuracy: 0.7926 - val_loss: 1.1385\n",
      "Epoch 37/50\n",
      "\u001b[1m624/624\u001b[0m \u001b[32m━━━━━━━━━━━━━━━━━━━━\u001b[0m\u001b[37m\u001b[0m \u001b[1m3s\u001b[0m 4ms/step - accuracy: 0.9884 - loss: 0.0353 - val_accuracy: 0.8008 - val_loss: 1.2974\n",
      "Epoch 38/50\n",
      "\u001b[1m624/624\u001b[0m \u001b[32m━━━━━━━━━━━━━━━━━━━━\u001b[0m\u001b[37m\u001b[0m \u001b[1m3s\u001b[0m 4ms/step - accuracy: 0.9895 - loss: 0.0297 - val_accuracy: 0.7998 - val_loss: 1.3680\n",
      "Epoch 39/50\n",
      "\u001b[1m624/624\u001b[0m \u001b[32m━━━━━━━━━━━━━━━━━━━━\u001b[0m\u001b[37m\u001b[0m \u001b[1m3s\u001b[0m 4ms/step - accuracy: 0.9871 - loss: 0.0323 - val_accuracy: 0.7916 - val_loss: 1.2939\n",
      "Epoch 40/50\n",
      "\u001b[1m624/624\u001b[0m \u001b[32m━━━━━━━━━━━━━━━━━━━━\u001b[0m\u001b[37m\u001b[0m \u001b[1m3s\u001b[0m 4ms/step - accuracy: 0.9852 - loss: 0.0367 - val_accuracy: 0.7986 - val_loss: 1.3949\n",
      "Epoch 41/50\n",
      "\u001b[1m624/624\u001b[0m \u001b[32m━━━━━━━━━━━━━━━━━━━━\u001b[0m\u001b[37m\u001b[0m \u001b[1m3s\u001b[0m 4ms/step - accuracy: 0.9873 - loss: 0.0349 - val_accuracy: 0.7944 - val_loss: 1.2777\n",
      "Epoch 42/50\n",
      "\u001b[1m624/624\u001b[0m \u001b[32m━━━━━━━━━━━━━━━━━━━━\u001b[0m\u001b[37m\u001b[0m \u001b[1m3s\u001b[0m 4ms/step - accuracy: 0.9857 - loss: 0.0397 - val_accuracy: 0.7986 - val_loss: 1.4593\n",
      "Epoch 43/50\n",
      "\u001b[1m624/624\u001b[0m \u001b[32m━━━━━━━━━━━━━━━━━━━━\u001b[0m\u001b[37m\u001b[0m \u001b[1m3s\u001b[0m 4ms/step - accuracy: 0.9856 - loss: 0.0356 - val_accuracy: 0.7932 - val_loss: 1.1968\n",
      "Epoch 44/50\n",
      "\u001b[1m624/624\u001b[0m \u001b[32m━━━━━━━━━━━━━━━━━━━━\u001b[0m\u001b[37m\u001b[0m \u001b[1m3s\u001b[0m 4ms/step - accuracy: 0.9905 - loss: 0.0286 - val_accuracy: 0.7890 - val_loss: 1.2866\n",
      "Epoch 45/50\n",
      "\u001b[1m624/624\u001b[0m \u001b[32m━━━━━━━━━━━━━━━━━━━━\u001b[0m\u001b[37m\u001b[0m \u001b[1m3s\u001b[0m 4ms/step - accuracy: 0.9871 - loss: 0.0344 - val_accuracy: 0.7998 - val_loss: 1.3782\n",
      "Epoch 46/50\n",
      "\u001b[1m624/624\u001b[0m \u001b[32m━━━━━━━━━━━━━━━━━━━━\u001b[0m\u001b[37m\u001b[0m \u001b[1m3s\u001b[0m 4ms/step - accuracy: 0.9881 - loss: 0.0356 - val_accuracy: 0.7990 - val_loss: 1.2007\n",
      "Epoch 47/50\n",
      "\u001b[1m624/624\u001b[0m \u001b[32m━━━━━━━━━━━━━━━━━━━━\u001b[0m\u001b[37m\u001b[0m \u001b[1m3s\u001b[0m 4ms/step - accuracy: 0.9899 - loss: 0.0281 - val_accuracy: 0.7958 - val_loss: 1.4852\n",
      "Epoch 48/50\n",
      "\u001b[1m624/624\u001b[0m \u001b[32m━━━━━━━━━━━━━━━━━━━━\u001b[0m\u001b[37m\u001b[0m \u001b[1m3s\u001b[0m 4ms/step - accuracy: 0.9881 - loss: 0.0317 - val_accuracy: 0.7930 - val_loss: 1.5074\n",
      "Epoch 49/50\n",
      "\u001b[1m624/624\u001b[0m \u001b[32m━━━━━━━━━━━━━━━━━━━━\u001b[0m\u001b[37m\u001b[0m \u001b[1m3s\u001b[0m 4ms/step - accuracy: 0.9892 - loss: 0.0303 - val_accuracy: 0.7984 - val_loss: 1.4004\n",
      "Epoch 50/50\n",
      "\u001b[1m624/624\u001b[0m \u001b[32m━━━━━━━━━━━━━━━━━━━━\u001b[0m\u001b[37m\u001b[0m \u001b[1m3s\u001b[0m 4ms/step - accuracy: 0.9912 - loss: 0.0235 - val_accuracy: 0.8026 - val_loss: 1.4187\n"
     ]
    }
   ],
   "source": [
    "# Build a simple CNN model\n",
    "\n",
    "model = Sequential([\n",
    "    Conv2D(32, (3, 3), activation='relu', input_shape=(64, 64, 1)),\n",
    "    MaxPooling2D((2, 2)),\n",
    "    Conv2D(64, (3, 3), activation='relu'),\n",
    "    MaxPooling2D((2, 2)),\n",
    "    Flatten(),\n",
    "    Dense(128, activation='relu'),\n",
    "    Dropout(0.5),\n",
    "    Dense(1, activation='sigmoid')\n",
    "])\n",
    "\n",
    "model.compile(optimizer='adam', loss='binary_crossentropy', metrics=['accuracy'])\n",
    "\n",
    "# Train the model\n",
    "print(\"Testing the model...\")\n",
    "history = model.fit(X_trainCNN, y_trainCNN, epochs=50, batch_size=32, validation_data=(X_testCNN, y_testCNN))"
   ]
  },
  {
   "cell_type": "code",
   "execution_count": 16,
   "id": "264b7586",
   "metadata": {
    "execution": {
     "iopub.execute_input": "2025-06-02T04:55:34.686060Z",
     "iopub.status.busy": "2025-06-02T04:55:34.685787Z",
     "iopub.status.idle": "2025-06-02T04:55:34.702267Z",
     "shell.execute_reply": "2025-06-02T04:55:34.701556Z"
    },
    "papermill": {
     "duration": 0.11511,
     "end_time": "2025-06-02T04:55:34.703295",
     "exception": false,
     "start_time": "2025-06-02T04:55:34.588185",
     "status": "completed"
    },
    "tags": []
   },
   "outputs": [
    {
     "data": {
      "text/html": [
       "<pre style=\"white-space:pre;overflow-x:auto;line-height:normal;font-family:Menlo,'DejaVu Sans Mono',consolas,'Courier New',monospace\"><span style=\"font-weight: bold\">Model: \"sequential\"</span>\n",
       "</pre>\n"
      ],
      "text/plain": [
       "\u001b[1mModel: \"sequential\"\u001b[0m\n"
      ]
     },
     "metadata": {},
     "output_type": "display_data"
    },
    {
     "data": {
      "text/html": [
       "<pre style=\"white-space:pre;overflow-x:auto;line-height:normal;font-family:Menlo,'DejaVu Sans Mono',consolas,'Courier New',monospace\">┏━━━━━━━━━━━━━━━━━━━━━━━━━━━━━━━━━━━━━━┳━━━━━━━━━━━━━━━━━━━━━━━━━━━━━┳━━━━━━━━━━━━━━━━━┓\n",
       "┃<span style=\"font-weight: bold\"> Layer (type)                         </span>┃<span style=\"font-weight: bold\"> Output Shape                </span>┃<span style=\"font-weight: bold\">         Param # </span>┃\n",
       "┡━━━━━━━━━━━━━━━━━━━━━━━━━━━━━━━━━━━━━━╇━━━━━━━━━━━━━━━━━━━━━━━━━━━━━╇━━━━━━━━━━━━━━━━━┩\n",
       "│ conv2d (<span style=\"color: #0087ff; text-decoration-color: #0087ff\">Conv2D</span>)                      │ (<span style=\"color: #00d7ff; text-decoration-color: #00d7ff\">None</span>, <span style=\"color: #00af00; text-decoration-color: #00af00\">62</span>, <span style=\"color: #00af00; text-decoration-color: #00af00\">62</span>, <span style=\"color: #00af00; text-decoration-color: #00af00\">32</span>)          │             <span style=\"color: #00af00; text-decoration-color: #00af00\">320</span> │\n",
       "├──────────────────────────────────────┼─────────────────────────────┼─────────────────┤\n",
       "│ max_pooling2d (<span style=\"color: #0087ff; text-decoration-color: #0087ff\">MaxPooling2D</span>)         │ (<span style=\"color: #00d7ff; text-decoration-color: #00d7ff\">None</span>, <span style=\"color: #00af00; text-decoration-color: #00af00\">31</span>, <span style=\"color: #00af00; text-decoration-color: #00af00\">31</span>, <span style=\"color: #00af00; text-decoration-color: #00af00\">32</span>)          │               <span style=\"color: #00af00; text-decoration-color: #00af00\">0</span> │\n",
       "├──────────────────────────────────────┼─────────────────────────────┼─────────────────┤\n",
       "│ conv2d_1 (<span style=\"color: #0087ff; text-decoration-color: #0087ff\">Conv2D</span>)                    │ (<span style=\"color: #00d7ff; text-decoration-color: #00d7ff\">None</span>, <span style=\"color: #00af00; text-decoration-color: #00af00\">29</span>, <span style=\"color: #00af00; text-decoration-color: #00af00\">29</span>, <span style=\"color: #00af00; text-decoration-color: #00af00\">64</span>)          │          <span style=\"color: #00af00; text-decoration-color: #00af00\">18,496</span> │\n",
       "├──────────────────────────────────────┼─────────────────────────────┼─────────────────┤\n",
       "│ max_pooling2d_1 (<span style=\"color: #0087ff; text-decoration-color: #0087ff\">MaxPooling2D</span>)       │ (<span style=\"color: #00d7ff; text-decoration-color: #00d7ff\">None</span>, <span style=\"color: #00af00; text-decoration-color: #00af00\">14</span>, <span style=\"color: #00af00; text-decoration-color: #00af00\">14</span>, <span style=\"color: #00af00; text-decoration-color: #00af00\">64</span>)          │               <span style=\"color: #00af00; text-decoration-color: #00af00\">0</span> │\n",
       "├──────────────────────────────────────┼─────────────────────────────┼─────────────────┤\n",
       "│ flatten (<span style=\"color: #0087ff; text-decoration-color: #0087ff\">Flatten</span>)                    │ (<span style=\"color: #00d7ff; text-decoration-color: #00d7ff\">None</span>, <span style=\"color: #00af00; text-decoration-color: #00af00\">12544</span>)               │               <span style=\"color: #00af00; text-decoration-color: #00af00\">0</span> │\n",
       "├──────────────────────────────────────┼─────────────────────────────┼─────────────────┤\n",
       "│ dense (<span style=\"color: #0087ff; text-decoration-color: #0087ff\">Dense</span>)                        │ (<span style=\"color: #00d7ff; text-decoration-color: #00d7ff\">None</span>, <span style=\"color: #00af00; text-decoration-color: #00af00\">128</span>)                 │       <span style=\"color: #00af00; text-decoration-color: #00af00\">1,605,760</span> │\n",
       "├──────────────────────────────────────┼─────────────────────────────┼─────────────────┤\n",
       "│ dropout (<span style=\"color: #0087ff; text-decoration-color: #0087ff\">Dropout</span>)                    │ (<span style=\"color: #00d7ff; text-decoration-color: #00d7ff\">None</span>, <span style=\"color: #00af00; text-decoration-color: #00af00\">128</span>)                 │               <span style=\"color: #00af00; text-decoration-color: #00af00\">0</span> │\n",
       "├──────────────────────────────────────┼─────────────────────────────┼─────────────────┤\n",
       "│ dense_1 (<span style=\"color: #0087ff; text-decoration-color: #0087ff\">Dense</span>)                      │ (<span style=\"color: #00d7ff; text-decoration-color: #00d7ff\">None</span>, <span style=\"color: #00af00; text-decoration-color: #00af00\">1</span>)                   │             <span style=\"color: #00af00; text-decoration-color: #00af00\">129</span> │\n",
       "└──────────────────────────────────────┴─────────────────────────────┴─────────────────┘\n",
       "</pre>\n"
      ],
      "text/plain": [
       "┏━━━━━━━━━━━━━━━━━━━━━━━━━━━━━━━━━━━━━━┳━━━━━━━━━━━━━━━━━━━━━━━━━━━━━┳━━━━━━━━━━━━━━━━━┓\n",
       "┃\u001b[1m \u001b[0m\u001b[1mLayer (type)                        \u001b[0m\u001b[1m \u001b[0m┃\u001b[1m \u001b[0m\u001b[1mOutput Shape               \u001b[0m\u001b[1m \u001b[0m┃\u001b[1m \u001b[0m\u001b[1m        Param #\u001b[0m\u001b[1m \u001b[0m┃\n",
       "┡━━━━━━━━━━━━━━━━━━━━━━━━━━━━━━━━━━━━━━╇━━━━━━━━━━━━━━━━━━━━━━━━━━━━━╇━━━━━━━━━━━━━━━━━┩\n",
       "│ conv2d (\u001b[38;5;33mConv2D\u001b[0m)                      │ (\u001b[38;5;45mNone\u001b[0m, \u001b[38;5;34m62\u001b[0m, \u001b[38;5;34m62\u001b[0m, \u001b[38;5;34m32\u001b[0m)          │             \u001b[38;5;34m320\u001b[0m │\n",
       "├──────────────────────────────────────┼─────────────────────────────┼─────────────────┤\n",
       "│ max_pooling2d (\u001b[38;5;33mMaxPooling2D\u001b[0m)         │ (\u001b[38;5;45mNone\u001b[0m, \u001b[38;5;34m31\u001b[0m, \u001b[38;5;34m31\u001b[0m, \u001b[38;5;34m32\u001b[0m)          │               \u001b[38;5;34m0\u001b[0m │\n",
       "├──────────────────────────────────────┼─────────────────────────────┼─────────────────┤\n",
       "│ conv2d_1 (\u001b[38;5;33mConv2D\u001b[0m)                    │ (\u001b[38;5;45mNone\u001b[0m, \u001b[38;5;34m29\u001b[0m, \u001b[38;5;34m29\u001b[0m, \u001b[38;5;34m64\u001b[0m)          │          \u001b[38;5;34m18,496\u001b[0m │\n",
       "├──────────────────────────────────────┼─────────────────────────────┼─────────────────┤\n",
       "│ max_pooling2d_1 (\u001b[38;5;33mMaxPooling2D\u001b[0m)       │ (\u001b[38;5;45mNone\u001b[0m, \u001b[38;5;34m14\u001b[0m, \u001b[38;5;34m14\u001b[0m, \u001b[38;5;34m64\u001b[0m)          │               \u001b[38;5;34m0\u001b[0m │\n",
       "├──────────────────────────────────────┼─────────────────────────────┼─────────────────┤\n",
       "│ flatten (\u001b[38;5;33mFlatten\u001b[0m)                    │ (\u001b[38;5;45mNone\u001b[0m, \u001b[38;5;34m12544\u001b[0m)               │               \u001b[38;5;34m0\u001b[0m │\n",
       "├──────────────────────────────────────┼─────────────────────────────┼─────────────────┤\n",
       "│ dense (\u001b[38;5;33mDense\u001b[0m)                        │ (\u001b[38;5;45mNone\u001b[0m, \u001b[38;5;34m128\u001b[0m)                 │       \u001b[38;5;34m1,605,760\u001b[0m │\n",
       "├──────────────────────────────────────┼─────────────────────────────┼─────────────────┤\n",
       "│ dropout (\u001b[38;5;33mDropout\u001b[0m)                    │ (\u001b[38;5;45mNone\u001b[0m, \u001b[38;5;34m128\u001b[0m)                 │               \u001b[38;5;34m0\u001b[0m │\n",
       "├──────────────────────────────────────┼─────────────────────────────┼─────────────────┤\n",
       "│ dense_1 (\u001b[38;5;33mDense\u001b[0m)                      │ (\u001b[38;5;45mNone\u001b[0m, \u001b[38;5;34m1\u001b[0m)                   │             \u001b[38;5;34m129\u001b[0m │\n",
       "└──────────────────────────────────────┴─────────────────────────────┴─────────────────┘\n"
      ]
     },
     "metadata": {},
     "output_type": "display_data"
    },
    {
     "data": {
      "text/html": [
       "<pre style=\"white-space:pre;overflow-x:auto;line-height:normal;font-family:Menlo,'DejaVu Sans Mono',consolas,'Courier New',monospace\"><span style=\"font-weight: bold\"> Total params: </span><span style=\"color: #00af00; text-decoration-color: #00af00\">4,874,117</span> (18.59 MB)\n",
       "</pre>\n"
      ],
      "text/plain": [
       "\u001b[1m Total params: \u001b[0m\u001b[38;5;34m4,874,117\u001b[0m (18.59 MB)\n"
      ]
     },
     "metadata": {},
     "output_type": "display_data"
    },
    {
     "data": {
      "text/html": [
       "<pre style=\"white-space:pre;overflow-x:auto;line-height:normal;font-family:Menlo,'DejaVu Sans Mono',consolas,'Courier New',monospace\"><span style=\"font-weight: bold\"> Trainable params: </span><span style=\"color: #00af00; text-decoration-color: #00af00\">1,624,705</span> (6.20 MB)\n",
       "</pre>\n"
      ],
      "text/plain": [
       "\u001b[1m Trainable params: \u001b[0m\u001b[38;5;34m1,624,705\u001b[0m (6.20 MB)\n"
      ]
     },
     "metadata": {},
     "output_type": "display_data"
    },
    {
     "data": {
      "text/html": [
       "<pre style=\"white-space:pre;overflow-x:auto;line-height:normal;font-family:Menlo,'DejaVu Sans Mono',consolas,'Courier New',monospace\"><span style=\"font-weight: bold\"> Non-trainable params: </span><span style=\"color: #00af00; text-decoration-color: #00af00\">0</span> (0.00 B)\n",
       "</pre>\n"
      ],
      "text/plain": [
       "\u001b[1m Non-trainable params: \u001b[0m\u001b[38;5;34m0\u001b[0m (0.00 B)\n"
      ]
     },
     "metadata": {},
     "output_type": "display_data"
    },
    {
     "data": {
      "text/html": [
       "<pre style=\"white-space:pre;overflow-x:auto;line-height:normal;font-family:Menlo,'DejaVu Sans Mono',consolas,'Courier New',monospace\"><span style=\"font-weight: bold\"> Optimizer params: </span><span style=\"color: #00af00; text-decoration-color: #00af00\">3,249,412</span> (12.40 MB)\n",
       "</pre>\n"
      ],
      "text/plain": [
       "\u001b[1m Optimizer params: \u001b[0m\u001b[38;5;34m3,249,412\u001b[0m (12.40 MB)\n"
      ]
     },
     "metadata": {},
     "output_type": "display_data"
    }
   ],
   "source": [
    "model.summary()"
   ]
  },
  {
   "cell_type": "code",
   "execution_count": 17,
   "id": "7558b0f2",
   "metadata": {
    "execution": {
     "iopub.execute_input": "2025-06-02T04:55:34.897435Z",
     "iopub.status.busy": "2025-06-02T04:55:34.896749Z",
     "iopub.status.idle": "2025-06-02T04:55:36.720438Z",
     "shell.execute_reply": "2025-06-02T04:55:36.719634Z"
    },
    "papermill": {
     "duration": 1.921938,
     "end_time": "2025-06-02T04:55:36.721861",
     "exception": false,
     "start_time": "2025-06-02T04:55:34.799923",
     "status": "completed"
    },
    "tags": []
   },
   "outputs": [
    {
     "name": "stdout",
     "output_type": "stream",
     "text": [
      "Testing the model...\n",
      "\u001b[1m156/156\u001b[0m \u001b[32m━━━━━━━━━━━━━━━━━━━━\u001b[0m\u001b[37m\u001b[0m \u001b[1m0s\u001b[0m 2ms/step - accuracy: 0.8028 - loss: 1.4290\n",
      "Accuracy:  0.8026052117347717\n",
      "\u001b[1m156/156\u001b[0m \u001b[32m━━━━━━━━━━━━━━━━━━━━\u001b[0m\u001b[37m\u001b[0m \u001b[1m1s\u001b[0m 3ms/step\n"
     ]
    }
   ],
   "source": [
    "# Evaluate the model\n",
    "print(\"Testing the model...\")\n",
    "\n",
    "test_loss, test_accuracy = model.evaluate(X_testCNN, y_testCNN)\n",
    "print(\"Accuracy: \", test_accuracy)\n",
    "\n",
    "# Predictions\n",
    "y_pred_probCNN = model.predict(X_testCNN)\n",
    "y_predCNN = (y_pred_probCNN > 0.5).astype(int).flatten()"
   ]
  },
  {
   "cell_type": "code",
   "execution_count": 18,
   "id": "e05bc271",
   "metadata": {
    "execution": {
     "iopub.execute_input": "2025-06-02T04:55:36.916479Z",
     "iopub.status.busy": "2025-06-02T04:55:36.915770Z",
     "iopub.status.idle": "2025-06-02T04:55:37.389379Z",
     "shell.execute_reply": "2025-06-02T04:55:37.388724Z"
    },
    "papermill": {
     "duration": 0.571789,
     "end_time": "2025-06-02T04:55:37.391040",
     "exception": false,
     "start_time": "2025-06-02T04:55:36.819251",
     "status": "completed"
    },
    "tags": []
   },
   "outputs": [
    {
     "name": "stdout",
     "output_type": "stream",
     "text": [
      "\n",
      "Classification Report:\n",
      "              precision    recall  f1-score   support\n",
      "\n",
      "         Cat       0.82      0.78      0.80      2547\n",
      "         Dog       0.79      0.82      0.80      2443\n",
      "\n",
      "    accuracy                           0.80      4990\n",
      "   macro avg       0.80      0.80      0.80      4990\n",
      "weighted avg       0.80      0.80      0.80      4990\n",
      "\n"
     ]
    },
    {
     "data": {
      "image/png": "[encoded data removed]",
      "text/plain": [
       "<Figure size 600x400 with 2 Axes>"
      ]
     },
     "metadata": {},
     "output_type": "display_data"
    },
    {
     "data": {
      "image/png": "[encoded data removed]",
      "text/plain": [
       "<Figure size 1200x400 with 2 Axes>"
      ]
     },
     "metadata": {},
     "output_type": "display_data"
    }
   ],
   "source": [
    "# Classification report\n",
    "print(\"\\nClassification Report:\")\n",
    "print(classification_report(y_testCNN, y_predCNN, target_names=[\"Cat\", \"Dog\"]))\n",
    "\n",
    "# Confusion matrix\n",
    "cm = confusion_matrix(y_testCNN, y_predCNN)\n",
    "plt.figure(figsize=(6, 4))\n",
    "sns.heatmap(cm, annot=True, fmt=\"d\", cmap=\"Blues\", xticklabels=[\"Cat\", \"Dog\"], yticklabels=[\"Cat\", \"Dog\"])\n",
    "plt.title(\"Confusion Matrix\")\n",
    "plt.xlabel(\"Predicted\")\n",
    "plt.ylabel(\"Actual\")\n",
    "plt.show()\n",
    "\n",
    "# Plot training history\n",
    "plt.figure(figsize=(12, 4))\n",
    "\n",
    "# Accuracy plot\n",
    "plt.subplot(1, 2, 1)\n",
    "plt.plot(history.history['accuracy'], label='Train Accuracy')\n",
    "plt.plot(history.history['val_accuracy'], label='Validation Accuracy')\n",
    "plt.title('Model Accuracy')\n",
    "plt.xlabel('Epoch')\n",
    "plt.ylabel('Accuracy')\n",
    "plt.legend()\n",
    "\n",
    "# Loss plot\n",
    "plt.subplot(1, 2, 2)\n",
    "plt.plot(history.history['loss'], label='Train Loss')\n",
    "plt.plot(history.history['val_loss'], label='Validation Loss')\n",
    "plt.title('Model Loss')\n",
    "plt.xlabel('Epoch')\n",
    "plt.ylabel('Loss')\n",
    "plt.legend()\n",
    "\n",
    "plt.show()"
   ]
  },
  {
   "cell_type": "markdown",
   "id": "3e8e99e7",
   "metadata": {
    "papermill": {
     "duration": 0.099246,
     "end_time": "2025-06-02T04:55:37.589817",
     "exception": false,
     "start_time": "2025-06-02T04:55:37.490571",
     "status": "completed"
    },
    "tags": []
   },
   "source": [
    "## 2. Model 2 using RGB images and some other editions to get high accuracy"
   ]
  },
  {
   "cell_type": "markdown",
   "id": "df31c50e",
   "metadata": {
    "papermill": {
     "duration": 0.097409,
     "end_time": "2025-06-02T04:55:37.785032",
     "exception": false,
     "start_time": "2025-06-02T04:55:37.687623",
     "status": "completed"
    },
    "tags": []
   },
   "source": [
    "### Trying to improve accuracy by working on RBG images and adding EarlyStopping, and Data augmentationo and 100 epochs"
   ]
  },
  {
   "cell_type": "code",
   "execution_count": 19,
   "id": "c35effe6",
   "metadata": {
    "execution": {
     "iopub.execute_input": "2025-06-02T04:55:37.981382Z",
     "iopub.status.busy": "2025-06-02T04:55:37.981092Z",
     "iopub.status.idle": "2025-06-02T04:56:52.777224Z",
     "shell.execute_reply": "2025-06-02T04:56:52.776470Z"
    },
    "papermill": {
     "duration": 74.895745,
     "end_time": "2025-06-02T04:56:52.778650",
     "exception": false,
     "start_time": "2025-06-02T04:55:37.882905",
     "status": "completed"
    },
    "tags": []
   },
   "outputs": [
    {
     "name": "stdout",
     "output_type": "stream",
     "text": [
      "Loading images...\n"
     ]
    },
    {
     "name": "stderr",
     "output_type": "stream",
     "text": [
      "Corrupt JPEG data: 239 extraneous bytes before marker 0xd9\n",
      "Corrupt JPEG data: 99 extraneous bytes before marker 0xd9\n",
      "Corrupt JPEG data: 214 extraneous bytes before marker 0xd9\n",
      "Corrupt JPEG data: 128 extraneous bytes before marker 0xd9\n",
      "Corrupt JPEG data: 1153 extraneous bytes before marker 0xd9\n"
     ]
    },
    {
     "name": "stdout",
     "output_type": "stream",
     "text": [
      "[CV] END rf__bootstrap=True, rf__max_depth=10, rf__min_samples_leaf=4, rf__min_samples_split=5, rf__n_estimators=100; total time=  29.2s\n",
      "[CV] END rf__bootstrap=True, rf__max_depth=10, rf__min_samples_leaf=4, rf__min_samples_split=5, rf__n_estimators=100; total time=  29.1s\n",
      "[CV] END rf__bootstrap=True, rf__max_depth=15, rf__min_samples_leaf=4, rf__min_samples_split=5, rf__n_estimators=100; total time=  32.7s\n"
     ]
    },
    {
     "name": "stderr",
     "output_type": "stream",
     "text": [
      "Corrupt JPEG data: 226 extraneous bytes before marker 0xd9\n"
     ]
    },
    {
     "name": "stdout",
     "output_type": "stream",
     "text": [
      "[CV] END rf__bootstrap=True, rf__max_depth=10, rf__min_samples_leaf=4, rf__min_samples_split=5, rf__n_estimators=100; total time=  29.8s\n",
      "[CV] END rf__bootstrap=True, rf__max_depth=15, rf__min_samples_leaf=4, rf__min_samples_split=5, rf__n_estimators=100; total time=  33.1s\n",
      "[CV] END rf__bootstrap=True, rf__max_depth=15, rf__min_samples_leaf=4, rf__min_samples_split=5, rf__n_estimators=100; total time=  31.3s\n"
     ]
    },
    {
     "name": "stderr",
     "output_type": "stream",
     "text": [
      "Corrupt JPEG data: 65 extraneous bytes before marker 0xd9\n",
      "Warning: unknown JFIF revision number 0.00\n",
      "Corrupt JPEG data: 254 extraneous bytes before marker 0xd9\n",
      "Corrupt JPEG data: 1403 extraneous bytes before marker 0xd9\n",
      "Corrupt JPEG data: 162 extraneous bytes before marker 0xd9\n",
      "Corrupt JPEG data: 2230 extraneous bytes before marker 0xd9\n",
      "Corrupt JPEG data: 399 extraneous bytes before marker 0xd9\n"
     ]
    }
   ],
   "source": [
    "# Update: to use tf.keras.preprocessing.image_dataset_from_directory in loading the data \n",
    "images = []\n",
    "imgs_labels = []\n",
    "\n",
    "def load_images(folder, label):\n",
    "    for file in os.listdir(folder):\n",
    "        file_path = os.path.join(folder, file)\n",
    "        try:\n",
    "            img = cv2.imread(file_path, cv2.IMREAD_COLOR)  # Use RGB\n",
    "            \n",
    "            if img is None:\n",
    "                continue\n",
    "            \n",
    "            img = cv2.resize(img, (64, 64))\n",
    "            images.append(img)\n",
    "            imgs_labels.append(label)\n",
    "        except:\n",
    "            continue\n",
    "\n",
    "print(\"Loading images...\")\n",
    "load_images(cat_data, 0)  # 0 for cats\n",
    "load_images(dog_data, 1)  # 1 for dogs\n",
    "\n",
    "# Convert lists to arrays\n",
    "images = np.array(images, dtype='float32')\n",
    "imgs_labels = np.array(imgs_labels)\n",
    "\n",
    "# Normalize pixel values\n",
    "images /= 255"
   ]
  },
  {
   "cell_type": "code",
   "execution_count": 20,
   "id": "54918f28",
   "metadata": {
    "execution": {
     "iopub.execute_input": "2025-06-02T04:56:52.980981Z",
     "iopub.status.busy": "2025-06-02T04:56:52.980690Z",
     "iopub.status.idle": "2025-06-02T05:31:33.219576Z",
     "shell.execute_reply": "2025-06-02T05:31:33.219017Z"
    },
    "papermill": {
     "duration": 2080.342073,
     "end_time": "2025-06-02T05:31:33.221063",
     "exception": false,
     "start_time": "2025-06-02T04:56:52.878990",
     "status": "completed"
    },
    "tags": []
   },
   "outputs": [
    {
     "name": "stderr",
     "output_type": "stream",
     "text": [
      "/usr/local/lib/python3.11/dist-packages/keras/src/layers/convolutional/base_conv.py:107: UserWarning: Do not pass an `input_shape`/`input_dim` argument to a layer. When using Sequential models, prefer using an `Input(shape)` object as the first layer in the model instead.\n",
      "  super().__init__(activity_regularizer=activity_regularizer, **kwargs)\n",
      "/usr/local/lib/python3.11/dist-packages/keras/src/trainers/data_adapters/py_dataset_adapter.py:121: UserWarning: Your `PyDataset` class should call `super().__init__(**kwargs)` in its constructor. `**kwargs` can include `workers`, `use_multiprocessing`, `max_queue_size`. Do not pass these arguments to `fit()`, as they will be ignored.\n",
      "  self._warn_if_super_not_called()\n"
     ]
    },
    {
     "name": "stdout",
     "output_type": "stream",
     "text": [
      "Epoch 1/100\n",
      "\u001b[1m156/156\u001b[0m \u001b[32m━━━━━━━━━━━━━━━━━━━━\u001b[0m\u001b[37m\u001b[0m \u001b[1m29s\u001b[0m 156ms/step - accuracy: 0.5681 - loss: 0.6749 - val_accuracy: 0.6623 - val_loss: 0.6144\n",
      "Epoch 2/100\n",
      "\u001b[1m156/156\u001b[0m \u001b[32m━━━━━━━━━━━━━━━━━━━━\u001b[0m\u001b[37m\u001b[0m \u001b[1m21s\u001b[0m 134ms/step - accuracy: 0.6935 - loss: 0.5789 - val_accuracy: 0.7585 - val_loss: 0.5020\n",
      "Epoch 3/100\n",
      "\u001b[1m156/156\u001b[0m \u001b[32m━━━━━━━━━━━━━━━━━━━━\u001b[0m\u001b[37m\u001b[0m \u001b[1m21s\u001b[0m 134ms/step - accuracy: 0.7365 - loss: 0.5374 - val_accuracy: 0.7802 - val_loss: 0.4811\n",
      "Epoch 4/100\n",
      "\u001b[1m156/156\u001b[0m \u001b[32m━━━━━━━━━━━━━━━━━━━━\u001b[0m\u001b[37m\u001b[0m \u001b[1m21s\u001b[0m 136ms/step - accuracy: 0.7619 - loss: 0.4969 - val_accuracy: 0.8014 - val_loss: 0.4358\n",
      "Epoch 5/100\n",
      "\u001b[1m156/156\u001b[0m \u001b[32m━━━━━━━━━━━━━━━━━━━━\u001b[0m\u001b[37m\u001b[0m \u001b[1m21s\u001b[0m 136ms/step - accuracy: 0.7809 - loss: 0.4634 - val_accuracy: 0.7627 - val_loss: 0.4842\n",
      "Epoch 6/100\n",
      "\u001b[1m156/156\u001b[0m \u001b[32m━━━━━━━━━━━━━━━━━━━━\u001b[0m\u001b[37m\u001b[0m \u001b[1m21s\u001b[0m 135ms/step - accuracy: 0.7933 - loss: 0.4452 - val_accuracy: 0.7952 - val_loss: 0.4389\n",
      "Epoch 7/100\n",
      "\u001b[1m156/156\u001b[0m \u001b[32m━━━━━━━━━━━━━━━━━━━━\u001b[0m\u001b[37m\u001b[0m \u001b[1m21s\u001b[0m 135ms/step - accuracy: 0.8122 - loss: 0.4175 - val_accuracy: 0.8257 - val_loss: 0.3797\n",
      "Epoch 8/100\n",
      "\u001b[1m156/156\u001b[0m \u001b[32m━━━━━━━━━━━━━━━━━━━━\u001b[0m\u001b[37m\u001b[0m \u001b[1m21s\u001b[0m 135ms/step - accuracy: 0.8214 - loss: 0.3920 - val_accuracy: 0.8248 - val_loss: 0.3840\n",
      "Epoch 9/100\n",
      "\u001b[1m156/156\u001b[0m \u001b[32m━━━━━━━━━━━━━━━━━━━━\u001b[0m\u001b[37m\u001b[0m \u001b[1m21s\u001b[0m 134ms/step - accuracy: 0.8268 - loss: 0.3824 - val_accuracy: 0.7577 - val_loss: 0.5197\n",
      "Epoch 10/100\n",
      "\u001b[1m156/156\u001b[0m \u001b[32m━━━━━━━━━━━━━━━━━━━━\u001b[0m\u001b[37m\u001b[0m \u001b[1m21s\u001b[0m 134ms/step - accuracy: 0.8423 - loss: 0.3670 - val_accuracy: 0.8419 - val_loss: 0.3585\n",
      "Epoch 11/100\n",
      "\u001b[1m156/156\u001b[0m \u001b[32m━━━━━━━━━━━━━━━━━━━━\u001b[0m\u001b[37m\u001b[0m \u001b[1m21s\u001b[0m 132ms/step - accuracy: 0.8399 - loss: 0.3596 - val_accuracy: 0.8447 - val_loss: 0.3467\n",
      "Epoch 12/100\n",
      "\u001b[1m156/156\u001b[0m \u001b[32m━━━━━━━━━━━━━━━━━━━━\u001b[0m\u001b[37m\u001b[0m \u001b[1m21s\u001b[0m 132ms/step - accuracy: 0.8452 - loss: 0.3481 - val_accuracy: 0.8623 - val_loss: 0.3212\n",
      "Epoch 13/100\n",
      "\u001b[1m156/156\u001b[0m \u001b[32m━━━━━━━━━━━━━━━━━━━━\u001b[0m\u001b[37m\u001b[0m \u001b[1m21s\u001b[0m 134ms/step - accuracy: 0.8581 - loss: 0.3268 - val_accuracy: 0.8667 - val_loss: 0.3183\n",
      "Epoch 14/100\n",
      "\u001b[1m156/156\u001b[0m \u001b[32m━━━━━━━━━━━━━━━━━━━━\u001b[0m\u001b[37m\u001b[0m \u001b[1m21s\u001b[0m 132ms/step - accuracy: 0.8586 - loss: 0.3300 - val_accuracy: 0.8509 - val_loss: 0.3454\n",
      "Epoch 15/100\n",
      "\u001b[1m156/156\u001b[0m \u001b[32m━━━━━━━━━━━━━━━━━━━━\u001b[0m\u001b[37m\u001b[0m \u001b[1m21s\u001b[0m 132ms/step - accuracy: 0.8591 - loss: 0.3202 - val_accuracy: 0.8617 - val_loss: 0.3174\n",
      "Epoch 16/100\n",
      "\u001b[1m156/156\u001b[0m \u001b[32m━━━━━━━━━━━━━━━━━━━━\u001b[0m\u001b[37m\u001b[0m \u001b[1m20s\u001b[0m 131ms/step - accuracy: 0.8640 - loss: 0.3148 - val_accuracy: 0.8756 - val_loss: 0.2913\n",
      "Epoch 17/100\n",
      "\u001b[1m156/156\u001b[0m \u001b[32m━━━━━━━━━━━━━━━━━━━━\u001b[0m\u001b[37m\u001b[0m \u001b[1m21s\u001b[0m 132ms/step - accuracy: 0.8713 - loss: 0.2989 - val_accuracy: 0.8675 - val_loss: 0.3080\n",
      "Epoch 18/100\n",
      "\u001b[1m156/156\u001b[0m \u001b[32m━━━━━━━━━━━━━━━━━━━━\u001b[0m\u001b[37m\u001b[0m \u001b[1m21s\u001b[0m 133ms/step - accuracy: 0.8762 - loss: 0.2933 - val_accuracy: 0.8687 - val_loss: 0.2972\n",
      "Epoch 19/100\n",
      "\u001b[1m156/156\u001b[0m \u001b[32m━━━━━━━━━━━━━━━━━━━━\u001b[0m\u001b[37m\u001b[0m \u001b[1m21s\u001b[0m 133ms/step - accuracy: 0.8741 - loss: 0.2953 - val_accuracy: 0.8794 - val_loss: 0.2926\n",
      "Epoch 20/100\n",
      "\u001b[1m156/156\u001b[0m \u001b[32m━━━━━━━━━━━━━━━━━━━━\u001b[0m\u001b[37m\u001b[0m \u001b[1m22s\u001b[0m 139ms/step - accuracy: 0.8770 - loss: 0.2826 - val_accuracy: 0.8733 - val_loss: 0.3014\n",
      "Epoch 21/100\n",
      "\u001b[1m156/156\u001b[0m \u001b[32m━━━━━━━━━━━━━━━━━━━━\u001b[0m\u001b[37m\u001b[0m \u001b[1m22s\u001b[0m 139ms/step - accuracy: 0.8792 - loss: 0.2887 - val_accuracy: 0.8764 - val_loss: 0.3034\n",
      "Epoch 22/100\n",
      "\u001b[1m156/156\u001b[0m \u001b[32m━━━━━━━━━━━━━━━━━━━━\u001b[0m\u001b[37m\u001b[0m \u001b[1m21s\u001b[0m 135ms/step - accuracy: 0.8804 - loss: 0.2877 - val_accuracy: 0.8814 - val_loss: 0.2880\n",
      "Epoch 23/100\n",
      "\u001b[1m156/156\u001b[0m \u001b[32m━━━━━━━━━━━━━━━━━━━━\u001b[0m\u001b[37m\u001b[0m \u001b[1m21s\u001b[0m 137ms/step - accuracy: 0.8852 - loss: 0.2744 - val_accuracy: 0.8557 - val_loss: 0.3436\n",
      "Epoch 24/100\n",
      "\u001b[1m156/156\u001b[0m \u001b[32m━━━━━━━━━━━━━━━━━━━━\u001b[0m\u001b[37m\u001b[0m \u001b[1m21s\u001b[0m 137ms/step - accuracy: 0.8915 - loss: 0.2604 - val_accuracy: 0.8878 - val_loss: 0.2671\n",
      "Epoch 25/100\n",
      "\u001b[1m156/156\u001b[0m \u001b[32m━━━━━━━━━━━━━━━━━━━━\u001b[0m\u001b[37m\u001b[0m \u001b[1m22s\u001b[0m 138ms/step - accuracy: 0.8872 - loss: 0.2682 - val_accuracy: 0.8906 - val_loss: 0.2656\n",
      "Epoch 26/100\n",
      "\u001b[1m156/156\u001b[0m \u001b[32m━━━━━━━━━━━━━━━━━━━━\u001b[0m\u001b[37m\u001b[0m \u001b[1m21s\u001b[0m 136ms/step - accuracy: 0.8921 - loss: 0.2587 - val_accuracy: 0.8882 - val_loss: 0.2812\n",
      "Epoch 27/100\n",
      "\u001b[1m156/156\u001b[0m \u001b[32m━━━━━━━━━━━━━━━━━━━━\u001b[0m\u001b[37m\u001b[0m \u001b[1m21s\u001b[0m 133ms/step - accuracy: 0.8919 - loss: 0.2521 - val_accuracy: 0.8848 - val_loss: 0.2829\n",
      "Epoch 28/100\n",
      "\u001b[1m156/156\u001b[0m \u001b[32m━━━━━━━━━━━━━━━━━━━━\u001b[0m\u001b[37m\u001b[0m \u001b[1m21s\u001b[0m 132ms/step - accuracy: 0.8910 - loss: 0.2609 - val_accuracy: 0.8774 - val_loss: 0.2841\n",
      "Epoch 29/100\n",
      "\u001b[1m156/156\u001b[0m \u001b[32m━━━━━━━━━━━━━━━━━━━━\u001b[0m\u001b[37m\u001b[0m \u001b[1m21s\u001b[0m 132ms/step - accuracy: 0.8962 - loss: 0.2524 - val_accuracy: 0.8950 - val_loss: 0.2560\n",
      "Epoch 30/100\n",
      "\u001b[1m156/156\u001b[0m \u001b[32m━━━━━━━━━━━━━━━━━━━━\u001b[0m\u001b[37m\u001b[0m \u001b[1m21s\u001b[0m 132ms/step - accuracy: 0.8987 - loss: 0.2458 - val_accuracy: 0.8780 - val_loss: 0.2974\n",
      "Epoch 31/100\n",
      "\u001b[1m156/156\u001b[0m \u001b[32m━━━━━━━━━━━━━━━━━━━━\u001b[0m\u001b[37m\u001b[0m \u001b[1m21s\u001b[0m 133ms/step - accuracy: 0.9039 - loss: 0.2349 - val_accuracy: 0.8635 - val_loss: 0.3362\n",
      "Epoch 32/100\n",
      "\u001b[1m156/156\u001b[0m \u001b[32m━━━━━━━━━━━━━━━━━━━━\u001b[0m\u001b[37m\u001b[0m \u001b[1m21s\u001b[0m 132ms/step - accuracy: 0.8979 - loss: 0.2430 - val_accuracy: 0.8864 - val_loss: 0.2831\n",
      "Epoch 33/100\n",
      "\u001b[1m156/156\u001b[0m \u001b[32m━━━━━━━━━━━━━━━━━━━━\u001b[0m\u001b[37m\u001b[0m \u001b[1m21s\u001b[0m 132ms/step - accuracy: 0.9025 - loss: 0.2383 - val_accuracy: 0.8816 - val_loss: 0.2935\n",
      "Epoch 34/100\n",
      "\u001b[1m156/156\u001b[0m \u001b[32m━━━━━━━━━━━━━━━━━━━━\u001b[0m\u001b[37m\u001b[0m \u001b[1m21s\u001b[0m 134ms/step - accuracy: 0.9033 - loss: 0.2361 - val_accuracy: 0.8920 - val_loss: 0.2687\n",
      "Epoch 35/100\n",
      "\u001b[1m156/156\u001b[0m \u001b[32m━━━━━━━━━━━━━━━━━━━━\u001b[0m\u001b[37m\u001b[0m \u001b[1m21s\u001b[0m 132ms/step - accuracy: 0.9023 - loss: 0.2380 - val_accuracy: 0.8856 - val_loss: 0.2738\n",
      "Epoch 36/100\n",
      "\u001b[1m156/156\u001b[0m \u001b[32m━━━━━━━━━━━━━━━━━━━━\u001b[0m\u001b[37m\u001b[0m \u001b[1m21s\u001b[0m 132ms/step - accuracy: 0.8985 - loss: 0.2416 - val_accuracy: 0.9046 - val_loss: 0.2372\n",
      "Epoch 37/100\n",
      "\u001b[1m156/156\u001b[0m \u001b[32m━━━━━━━━━━━━━━━━━━━━\u001b[0m\u001b[37m\u001b[0m \u001b[1m21s\u001b[0m 133ms/step - accuracy: 0.9070 - loss: 0.2235 - val_accuracy: 0.8930 - val_loss: 0.2675\n",
      "Epoch 38/100\n",
      "\u001b[1m156/156\u001b[0m \u001b[32m━━━━━━━━━━━━━━━━━━━━\u001b[0m\u001b[37m\u001b[0m \u001b[1m20s\u001b[0m 131ms/step - accuracy: 0.9070 - loss: 0.2194 - val_accuracy: 0.8966 - val_loss: 0.2627\n",
      "Epoch 39/100\n",
      "\u001b[1m156/156\u001b[0m \u001b[32m━━━━━━━━━━━━━━━━━━━━\u001b[0m\u001b[37m\u001b[0m \u001b[1m21s\u001b[0m 132ms/step - accuracy: 0.9098 - loss: 0.2189 - val_accuracy: 0.8563 - val_loss: 0.3625\n",
      "Epoch 40/100\n",
      "\u001b[1m156/156\u001b[0m \u001b[32m━━━━━━━━━━━━━━━━━━━━\u001b[0m\u001b[37m\u001b[0m \u001b[1m21s\u001b[0m 132ms/step - accuracy: 0.9102 - loss: 0.2202 - val_accuracy: 0.9044 - val_loss: 0.2441\n",
      "Epoch 41/100\n",
      "\u001b[1m156/156\u001b[0m \u001b[32m━━━━━━━━━━━━━━━━━━━━\u001b[0m\u001b[37m\u001b[0m \u001b[1m20s\u001b[0m 131ms/step - accuracy: 0.9098 - loss: 0.2140 - val_accuracy: 0.8735 - val_loss: 0.3010\n",
      "Epoch 42/100\n",
      "\u001b[1m156/156\u001b[0m \u001b[32m━━━━━━━━━━━━━━━━━━━━\u001b[0m\u001b[37m\u001b[0m \u001b[1m21s\u001b[0m 132ms/step - accuracy: 0.9113 - loss: 0.2206 - val_accuracy: 0.8990 - val_loss: 0.2454\n",
      "Epoch 43/100\n",
      "\u001b[1m156/156\u001b[0m \u001b[32m━━━━━━━━━━━━━━━━━━━━\u001b[0m\u001b[37m\u001b[0m \u001b[1m21s\u001b[0m 133ms/step - accuracy: 0.9158 - loss: 0.2067 - val_accuracy: 0.8980 - val_loss: 0.2497\n",
      "Epoch 44/100\n",
      "\u001b[1m156/156\u001b[0m \u001b[32m━━━━━━━━━━━━━━━━━━━━\u001b[0m\u001b[37m\u001b[0m \u001b[1m21s\u001b[0m 131ms/step - accuracy: 0.9110 - loss: 0.2160 - val_accuracy: 0.8884 - val_loss: 0.2817\n",
      "Epoch 45/100\n",
      "\u001b[1m156/156\u001b[0m \u001b[32m━━━━━━━━━━━━━━━━━━━━\u001b[0m\u001b[37m\u001b[0m \u001b[1m21s\u001b[0m 133ms/step - accuracy: 0.9155 - loss: 0.2091 - val_accuracy: 0.8912 - val_loss: 0.2665\n",
      "Epoch 46/100\n",
      "\u001b[1m156/156\u001b[0m \u001b[32m━━━━━━━━━━━━━━━━━━━━\u001b[0m\u001b[37m\u001b[0m \u001b[1m21s\u001b[0m 133ms/step - accuracy: 0.9156 - loss: 0.2033 - val_accuracy: 0.8962 - val_loss: 0.2743\n",
      "Epoch 47/100\n",
      "\u001b[1m156/156\u001b[0m \u001b[32m━━━━━━━━━━━━━━━━━━━━\u001b[0m\u001b[37m\u001b[0m \u001b[1m21s\u001b[0m 133ms/step - accuracy: 0.9154 - loss: 0.2066 - val_accuracy: 0.8856 - val_loss: 0.3015\n",
      "Epoch 48/100\n",
      "\u001b[1m156/156\u001b[0m \u001b[32m━━━━━━━━━━━━━━━━━━━━\u001b[0m\u001b[37m\u001b[0m \u001b[1m21s\u001b[0m 133ms/step - accuracy: 0.9169 - loss: 0.2033 - val_accuracy: 0.8872 - val_loss: 0.2873\n",
      "Epoch 49/100\n",
      "\u001b[1m156/156\u001b[0m \u001b[32m━━━━━━━━━━━━━━━━━━━━\u001b[0m\u001b[37m\u001b[0m \u001b[1m21s\u001b[0m 134ms/step - accuracy: 0.9187 - loss: 0.1996 - val_accuracy: 0.8880 - val_loss: 0.2834\n",
      "Epoch 50/100\n",
      "\u001b[1m156/156\u001b[0m \u001b[32m━━━━━━━━━━━━━━━━━━━━\u001b[0m\u001b[37m\u001b[0m \u001b[1m21s\u001b[0m 131ms/step - accuracy: 0.9208 - loss: 0.1962 - val_accuracy: 0.9108 - val_loss: 0.2209\n",
      "Epoch 51/100\n",
      "\u001b[1m156/156\u001b[0m \u001b[32m━━━━━━━━━━━━━━━━━━━━\u001b[0m\u001b[37m\u001b[0m \u001b[1m21s\u001b[0m 132ms/step - accuracy: 0.9164 - loss: 0.2004 - val_accuracy: 0.8946 - val_loss: 0.2562\n",
      "Epoch 52/100\n",
      "\u001b[1m156/156\u001b[0m \u001b[32m━━━━━━━━━━━━━━━━━━━━\u001b[0m\u001b[37m\u001b[0m \u001b[1m21s\u001b[0m 132ms/step - accuracy: 0.9172 - loss: 0.1919 - val_accuracy: 0.8970 - val_loss: 0.2795\n",
      "Epoch 53/100\n",
      "\u001b[1m156/156\u001b[0m \u001b[32m━━━━━━━━━━━━━━━━━━━━\u001b[0m\u001b[37m\u001b[0m \u001b[1m21s\u001b[0m 132ms/step - accuracy: 0.9167 - loss: 0.2008 - val_accuracy: 0.8703 - val_loss: 0.3163\n",
      "Epoch 54/100\n",
      "\u001b[1m156/156\u001b[0m \u001b[32m━━━━━━━━━━━━━━━━━━━━\u001b[0m\u001b[37m\u001b[0m \u001b[1m21s\u001b[0m 133ms/step - accuracy: 0.9191 - loss: 0.1946 - val_accuracy: 0.8988 - val_loss: 0.2521\n",
      "Epoch 55/100\n",
      "\u001b[1m156/156\u001b[0m \u001b[32m━━━━━━━━━━━━━━━━━━━━\u001b[0m\u001b[37m\u001b[0m \u001b[1m21s\u001b[0m 133ms/step - accuracy: 0.9212 - loss: 0.1935 - val_accuracy: 0.8758 - val_loss: 0.3219\n",
      "Epoch 56/100\n",
      "\u001b[1m156/156\u001b[0m \u001b[32m━━━━━━━━━━━━━━━━━━━━\u001b[0m\u001b[37m\u001b[0m \u001b[1m21s\u001b[0m 131ms/step - accuracy: 0.9176 - loss: 0.2027 - val_accuracy: 0.8804 - val_loss: 0.3227\n",
      "Epoch 57/100\n",
      "\u001b[1m156/156\u001b[0m \u001b[32m━━━━━━━━━━━━━━━━━━━━\u001b[0m\u001b[37m\u001b[0m \u001b[1m21s\u001b[0m 132ms/step - accuracy: 0.9279 - loss: 0.1849 - val_accuracy: 0.9050 - val_loss: 0.2421\n",
      "Epoch 58/100\n",
      "\u001b[1m156/156\u001b[0m \u001b[32m━━━━━━━━━━━━━━━━━━━━\u001b[0m\u001b[37m\u001b[0m \u001b[1m21s\u001b[0m 133ms/step - accuracy: 0.9205 - loss: 0.1950 - val_accuracy: 0.9014 - val_loss: 0.2517\n",
      "Epoch 59/100\n",
      "\u001b[1m156/156\u001b[0m \u001b[32m━━━━━━━━━━━━━━━━━━━━\u001b[0m\u001b[37m\u001b[0m \u001b[1m21s\u001b[0m 132ms/step - accuracy: 0.9274 - loss: 0.1808 - val_accuracy: 0.8936 - val_loss: 0.2647\n",
      "Epoch 60/100\n",
      "\u001b[1m156/156\u001b[0m \u001b[32m━━━━━━━━━━━━━━━━━━━━\u001b[0m\u001b[37m\u001b[0m \u001b[1m20s\u001b[0m 131ms/step - accuracy: 0.9230 - loss: 0.1848 - val_accuracy: 0.8862 - val_loss: 0.3041\n",
      "Epoch 61/100\n",
      "\u001b[1m156/156\u001b[0m \u001b[32m━━━━━━━━━━━━━━━━━━━━\u001b[0m\u001b[37m\u001b[0m \u001b[1m21s\u001b[0m 133ms/step - accuracy: 0.9285 - loss: 0.1757 - val_accuracy: 0.9122 - val_loss: 0.2322\n",
      "Epoch 62/100\n",
      "\u001b[1m156/156\u001b[0m \u001b[32m━━━━━━━━━━━━━━━━━━━━\u001b[0m\u001b[37m\u001b[0m \u001b[1m21s\u001b[0m 133ms/step - accuracy: 0.9289 - loss: 0.1750 - val_accuracy: 0.9024 - val_loss: 0.2431\n",
      "Epoch 63/100\n",
      "\u001b[1m156/156\u001b[0m \u001b[32m━━━━━━━━━━━━━━━━━━━━\u001b[0m\u001b[37m\u001b[0m \u001b[1m21s\u001b[0m 134ms/step - accuracy: 0.9335 - loss: 0.1674 - val_accuracy: 0.8948 - val_loss: 0.2615\n",
      "Epoch 64/100\n",
      "\u001b[1m156/156\u001b[0m \u001b[32m━━━━━━━━━━━━━━━━━━━━\u001b[0m\u001b[37m\u001b[0m \u001b[1m21s\u001b[0m 134ms/step - accuracy: 0.9260 - loss: 0.1751 - val_accuracy: 0.9050 - val_loss: 0.2501\n",
      "Epoch 65/100\n",
      "\u001b[1m156/156\u001b[0m \u001b[32m━━━━━━━━━━━━━━━━━━━━\u001b[0m\u001b[37m\u001b[0m \u001b[1m21s\u001b[0m 132ms/step - accuracy: 0.9293 - loss: 0.1718 - val_accuracy: 0.8932 - val_loss: 0.2831\n",
      "Epoch 66/100\n",
      "\u001b[1m156/156\u001b[0m \u001b[32m━━━━━━━━━━━━━━━━━━━━\u001b[0m\u001b[37m\u001b[0m \u001b[1m21s\u001b[0m 132ms/step - accuracy: 0.9307 - loss: 0.1722 - val_accuracy: 0.9022 - val_loss: 0.2381\n",
      "Epoch 67/100\n",
      "\u001b[1m156/156\u001b[0m \u001b[32m━━━━━━━━━━━━━━━━━━━━\u001b[0m\u001b[37m\u001b[0m \u001b[1m21s\u001b[0m 133ms/step - accuracy: 0.9307 - loss: 0.1699 - val_accuracy: 0.9070 - val_loss: 0.2472\n",
      "Epoch 68/100\n",
      "\u001b[1m156/156\u001b[0m \u001b[32m━━━━━━━━━━━━━━━━━━━━\u001b[0m\u001b[37m\u001b[0m \u001b[1m21s\u001b[0m 133ms/step - accuracy: 0.9308 - loss: 0.1673 - val_accuracy: 0.9134 - val_loss: 0.2305\n",
      "Epoch 69/100\n",
      "\u001b[1m156/156\u001b[0m \u001b[32m━━━━━━━━━━━━━━━━━━━━\u001b[0m\u001b[37m\u001b[0m \u001b[1m21s\u001b[0m 133ms/step - accuracy: 0.9316 - loss: 0.1685 - val_accuracy: 0.9014 - val_loss: 0.2626\n",
      "Epoch 70/100\n",
      "\u001b[1m156/156\u001b[0m \u001b[32m━━━━━━━━━━━━━━━━━━━━\u001b[0m\u001b[37m\u001b[0m \u001b[1m21s\u001b[0m 134ms/step - accuracy: 0.9311 - loss: 0.1752 - val_accuracy: 0.9020 - val_loss: 0.2558\n",
      "Epoch 71/100\n",
      "\u001b[1m156/156\u001b[0m \u001b[32m━━━━━━━━━━━━━━━━━━━━\u001b[0m\u001b[37m\u001b[0m \u001b[1m21s\u001b[0m 132ms/step - accuracy: 0.9336 - loss: 0.1660 - val_accuracy: 0.9012 - val_loss: 0.2512\n",
      "Epoch 72/100\n",
      "\u001b[1m156/156\u001b[0m \u001b[32m━━━━━━━━━━━━━━━━━━━━\u001b[0m\u001b[37m\u001b[0m \u001b[1m21s\u001b[0m 133ms/step - accuracy: 0.9295 - loss: 0.1658 - val_accuracy: 0.9088 - val_loss: 0.2461\n",
      "Epoch 73/100\n",
      "\u001b[1m156/156\u001b[0m \u001b[32m━━━━━━━━━━━━━━━━━━━━\u001b[0m\u001b[37m\u001b[0m \u001b[1m20s\u001b[0m 131ms/step - accuracy: 0.9301 - loss: 0.1686 - val_accuracy: 0.9030 - val_loss: 0.2718\n",
      "Epoch 74/100\n",
      "\u001b[1m156/156\u001b[0m \u001b[32m━━━━━━━━━━━━━━━━━━━━\u001b[0m\u001b[37m\u001b[0m \u001b[1m20s\u001b[0m 130ms/step - accuracy: 0.9322 - loss: 0.1704 - val_accuracy: 0.9100 - val_loss: 0.2386\n",
      "Epoch 75/100\n",
      "\u001b[1m156/156\u001b[0m \u001b[32m━━━━━━━━━━━━━━━━━━━━\u001b[0m\u001b[37m\u001b[0m \u001b[1m20s\u001b[0m 130ms/step - accuracy: 0.9366 - loss: 0.1598 - val_accuracy: 0.9036 - val_loss: 0.2741\n",
      "Epoch 76/100\n",
      "\u001b[1m156/156\u001b[0m \u001b[32m━━━━━━━━━━━━━━━━━━━━\u001b[0m\u001b[37m\u001b[0m \u001b[1m20s\u001b[0m 129ms/step - accuracy: 0.9318 - loss: 0.1638 - val_accuracy: 0.9080 - val_loss: 0.2498\n",
      "Epoch 77/100\n",
      "\u001b[1m156/156\u001b[0m \u001b[32m━━━━━━━━━━━━━━━━━━━━\u001b[0m\u001b[37m\u001b[0m \u001b[1m20s\u001b[0m 130ms/step - accuracy: 0.9332 - loss: 0.1692 - val_accuracy: 0.9124 - val_loss: 0.2303\n",
      "Epoch 78/100\n",
      "\u001b[1m156/156\u001b[0m \u001b[32m━━━━━━━━━━━━━━━━━━━━\u001b[0m\u001b[37m\u001b[0m \u001b[1m21s\u001b[0m 132ms/step - accuracy: 0.9351 - loss: 0.1621 - val_accuracy: 0.9134 - val_loss: 0.2199\n",
      "Epoch 79/100\n",
      "\u001b[1m156/156\u001b[0m \u001b[32m━━━━━━━━━━━━━━━━━━━━\u001b[0m\u001b[37m\u001b[0m \u001b[1m21s\u001b[0m 131ms/step - accuracy: 0.9385 - loss: 0.1571 - val_accuracy: 0.9054 - val_loss: 0.2481\n",
      "Epoch 80/100\n",
      "\u001b[1m156/156\u001b[0m \u001b[32m━━━━━━━━━━━━━━━━━━━━\u001b[0m\u001b[37m\u001b[0m \u001b[1m20s\u001b[0m 128ms/step - accuracy: 0.9371 - loss: 0.1537 - val_accuracy: 0.8898 - val_loss: 0.3098\n",
      "Epoch 81/100\n",
      "\u001b[1m156/156\u001b[0m \u001b[32m━━━━━━━━━━━━━━━━━━━━\u001b[0m\u001b[37m\u001b[0m \u001b[1m20s\u001b[0m 130ms/step - accuracy: 0.9386 - loss: 0.1578 - val_accuracy: 0.9154 - val_loss: 0.2189\n",
      "Epoch 82/100\n",
      "\u001b[1m156/156\u001b[0m \u001b[32m━━━━━━━━━━━━━━━━━━━━\u001b[0m\u001b[37m\u001b[0m \u001b[1m20s\u001b[0m 130ms/step - accuracy: 0.9273 - loss: 0.1705 - val_accuracy: 0.9020 - val_loss: 0.2519\n",
      "Epoch 83/100\n",
      "\u001b[1m156/156\u001b[0m \u001b[32m━━━━━━━━━━━━━━━━━━━━\u001b[0m\u001b[37m\u001b[0m \u001b[1m21s\u001b[0m 135ms/step - accuracy: 0.9404 - loss: 0.1501 - val_accuracy: 0.9064 - val_loss: 0.2484\n",
      "Epoch 84/100\n",
      "\u001b[1m156/156\u001b[0m \u001b[32m━━━━━━━━━━━━━━━━━━━━\u001b[0m\u001b[37m\u001b[0m \u001b[1m22s\u001b[0m 138ms/step - accuracy: 0.9392 - loss: 0.1507 - val_accuracy: 0.8998 - val_loss: 0.2590\n",
      "Epoch 85/100\n",
      "\u001b[1m156/156\u001b[0m \u001b[32m━━━━━━━━━━━━━━━━━━━━\u001b[0m\u001b[37m\u001b[0m \u001b[1m21s\u001b[0m 135ms/step - accuracy: 0.9396 - loss: 0.1500 - val_accuracy: 0.8719 - val_loss: 0.3739\n",
      "Epoch 86/100\n",
      "\u001b[1m156/156\u001b[0m \u001b[32m━━━━━━━━━━━━━━━━━━━━\u001b[0m\u001b[37m\u001b[0m \u001b[1m21s\u001b[0m 133ms/step - accuracy: 0.9394 - loss: 0.1522 - val_accuracy: 0.9102 - val_loss: 0.2480\n",
      "Epoch 87/100\n",
      "\u001b[1m156/156\u001b[0m \u001b[32m━━━━━━━━━━━━━━━━━━━━\u001b[0m\u001b[37m\u001b[0m \u001b[1m21s\u001b[0m 133ms/step - accuracy: 0.9338 - loss: 0.1608 - val_accuracy: 0.8846 - val_loss: 0.3495\n",
      "Epoch 88/100\n",
      "\u001b[1m156/156\u001b[0m \u001b[32m━━━━━━━━━━━━━━━━━━━━\u001b[0m\u001b[37m\u001b[0m \u001b[1m21s\u001b[0m 135ms/step - accuracy: 0.9333 - loss: 0.1622 - val_accuracy: 0.9102 - val_loss: 0.2426\n",
      "Epoch 89/100\n",
      "\u001b[1m156/156\u001b[0m \u001b[32m━━━━━━━━━━━━━━━━━━━━\u001b[0m\u001b[37m\u001b[0m \u001b[1m21s\u001b[0m 133ms/step - accuracy: 0.9411 - loss: 0.1495 - val_accuracy: 0.9004 - val_loss: 0.2705\n",
      "Epoch 90/100\n",
      "\u001b[1m156/156\u001b[0m \u001b[32m━━━━━━━━━━━━━━━━━━━━\u001b[0m\u001b[37m\u001b[0m \u001b[1m21s\u001b[0m 132ms/step - accuracy: 0.9377 - loss: 0.1544 - val_accuracy: 0.9020 - val_loss: 0.2691\n",
      "Epoch 91/100\n",
      "\u001b[1m156/156\u001b[0m \u001b[32m━━━━━━━━━━━━━━━━━━━━\u001b[0m\u001b[37m\u001b[0m \u001b[1m20s\u001b[0m 129ms/step - accuracy: 0.9410 - loss: 0.1530 - val_accuracy: 0.9088 - val_loss: 0.2562\n",
      "Epoch 92/100\n",
      "\u001b[1m156/156\u001b[0m \u001b[32m━━━━━━━━━━━━━━━━━━━━\u001b[0m\u001b[37m\u001b[0m \u001b[1m20s\u001b[0m 130ms/step - accuracy: 0.9405 - loss: 0.1442 - val_accuracy: 0.9148 - val_loss: 0.2321\n",
      "Epoch 93/100\n",
      "\u001b[1m156/156\u001b[0m \u001b[32m━━━━━━━━━━━━━━━━━━━━\u001b[0m\u001b[37m\u001b[0m \u001b[1m20s\u001b[0m 130ms/step - accuracy: 0.9429 - loss: 0.1434 - val_accuracy: 0.9128 - val_loss: 0.2573\n",
      "Epoch 94/100\n",
      "\u001b[1m156/156\u001b[0m \u001b[32m━━━━━━━━━━━━━━━━━━━━\u001b[0m\u001b[37m\u001b[0m \u001b[1m20s\u001b[0m 128ms/step - accuracy: 0.9416 - loss: 0.1458 - val_accuracy: 0.9068 - val_loss: 0.2593\n",
      "Epoch 95/100\n",
      "\u001b[1m156/156\u001b[0m \u001b[32m━━━━━━━━━━━━━━━━━━━━\u001b[0m\u001b[37m\u001b[0m \u001b[1m20s\u001b[0m 130ms/step - accuracy: 0.9405 - loss: 0.1475 - val_accuracy: 0.9106 - val_loss: 0.2360\n",
      "Epoch 96/100\n",
      "\u001b[1m156/156\u001b[0m \u001b[32m━━━━━━━━━━━━━━━━━━━━\u001b[0m\u001b[37m\u001b[0m \u001b[1m20s\u001b[0m 130ms/step - accuracy: 0.9444 - loss: 0.1403 - val_accuracy: 0.9044 - val_loss: 0.2508\n",
      "Epoch 97/100\n",
      "\u001b[1m156/156\u001b[0m \u001b[32m━━━━━━━━━━━━━━━━━━━━\u001b[0m\u001b[37m\u001b[0m \u001b[1m20s\u001b[0m 129ms/step - accuracy: 0.9442 - loss: 0.1435 - val_accuracy: 0.9096 - val_loss: 0.2685\n",
      "Epoch 98/100\n",
      "\u001b[1m156/156\u001b[0m \u001b[32m━━━━━━━━━━━━━━━━━━━━\u001b[0m\u001b[37m\u001b[0m \u001b[1m20s\u001b[0m 130ms/step - accuracy: 0.9360 - loss: 0.1499 - val_accuracy: 0.9020 - val_loss: 0.2969\n",
      "Epoch 99/100\n",
      "\u001b[1m156/156\u001b[0m \u001b[32m━━━━━━━━━━━━━━━━━━━━\u001b[0m\u001b[37m\u001b[0m \u001b[1m20s\u001b[0m 131ms/step - accuracy: 0.9455 - loss: 0.1371 - val_accuracy: 0.9118 - val_loss: 0.2647\n",
      "Epoch 100/100\n",
      "\u001b[1m156/156\u001b[0m \u001b[32m━━━━━━━━━━━━━━━━━━━━\u001b[0m\u001b[37m\u001b[0m \u001b[1m20s\u001b[0m 130ms/step - accuracy: 0.9458 - loss: 0.1394 - val_accuracy: 0.9064 - val_loss: 0.2875\n"
     ]
    }
   ],
   "source": [
    "# Train-test split\n",
    "X_trainCNN2, X_testCNN2, y_trainCNN2, y_testCNN2 = train_test_split(images, imgs_labels, test_size=0.2, random_state=42, stratify=labels)\n",
    "\n",
    "# Data augmentation\n",
    "datagen = ImageDataGenerator(\n",
    "    rotation_range=15,\n",
    "    zoom_range=0.1,\n",
    "    width_shift_range=0.1,\n",
    "    height_shift_range=0.1,\n",
    "    horizontal_flip=True\n",
    ")\n",
    "datagen.fit(X_trainCNN2)\n",
    "\n",
    "# CNN Model\n",
    "model = Sequential([\n",
    "    Conv2D(32, (3, 3), activation='relu', input_shape=(64, 64, 3)),\n",
    "    MaxPooling2D((2, 2)),\n",
    "    Conv2D(64, (3, 3), activation='relu'),\n",
    "    MaxPooling2D((2, 2)),\n",
    "    Conv2D(128, (3, 3), activation='relu'),\n",
    "    MaxPooling2D((2, 2)),\n",
    "    Flatten(),\n",
    "    Dense(128, activation='relu'),\n",
    "    Dropout(0.5),\n",
    "    Dense(1, activation='sigmoid')  # Binary classification for two classes\n",
    "])\n",
    "\n",
    "# Compile model\n",
    "model.compile(optimizer='adam', loss='binary_crossentropy', metrics=['accuracy'])\n",
    "\n",
    "# Early stopping\n",
    "early_stop = EarlyStopping(patience=30)\n",
    "\n",
    "# Train the model\n",
    "history = model.fit(\n",
    "    datagen.flow(X_trainCNN2, y_trainCNN2, batch_size=128),\n",
    "    epochs=100,\n",
    "    validation_data=(X_testCNN2, y_testCNN2),\n",
    "    callbacks=[early_stop]\n",
    ")"
   ]
  },
  {
   "cell_type": "code",
   "execution_count": 21,
   "id": "9c31db9e",
   "metadata": {
    "execution": {
     "iopub.execute_input": "2025-06-02T05:31:34.842758Z",
     "iopub.status.busy": "2025-06-02T05:31:34.842465Z",
     "iopub.status.idle": "2025-06-02T05:31:39.293175Z",
     "shell.execute_reply": "2025-06-02T05:31:39.292484Z"
    },
    "papermill": {
     "duration": 5.265882,
     "end_time": "2025-06-02T05:31:39.294444",
     "exception": false,
     "start_time": "2025-06-02T05:31:34.028562",
     "status": "completed"
    },
    "tags": []
   },
   "outputs": [
    {
     "name": "stdout",
     "output_type": "stream",
     "text": [
      "\u001b[1m624/624\u001b[0m \u001b[32m━━━━━━━━━━━━━━━━━━━━\u001b[0m\u001b[37m\u001b[0m \u001b[1m2s\u001b[0m 3ms/step - accuracy: 0.9509 - loss: 0.1188\n",
      "Train accuracy:  0.9496893286705017\n"
     ]
    }
   ],
   "source": [
    "# Evaluate model on training data\n",
    "train_lossCNN2, train_accCNN2 = model.evaluate(X_trainCNN2, y_trainCNN2)\n",
    "print(\"Train accuracy: \", train_accCNN2)"
   ]
  },
  {
   "cell_type": "code",
   "execution_count": 22,
   "id": "418137d2",
   "metadata": {
    "execution": {
     "iopub.execute_input": "2025-06-02T05:31:40.853122Z",
     "iopub.status.busy": "2025-06-02T05:31:40.852842Z",
     "iopub.status.idle": "2025-06-02T05:31:43.610239Z",
     "shell.execute_reply": "2025-06-02T05:31:43.609612Z"
    },
    "papermill": {
     "duration": 3.501836,
     "end_time": "2025-06-02T05:31:43.611433",
     "exception": false,
     "start_time": "2025-06-02T05:31:40.109597",
     "status": "completed"
    },
    "tags": []
   },
   "outputs": [
    {
     "name": "stdout",
     "output_type": "stream",
     "text": [
      "\u001b[1m156/156\u001b[0m \u001b[32m━━━━━━━━━━━━━━━━━━━━\u001b[0m\u001b[37m\u001b[0m \u001b[1m0s\u001b[0m 3ms/step - accuracy: 0.9082 - loss: 0.2943\n",
      "Test accuracy:  0.9064128398895264\n",
      "\u001b[1m156/156\u001b[0m \u001b[32m━━━━━━━━━━━━━━━━━━━━\u001b[0m\u001b[37m\u001b[0m \u001b[1m1s\u001b[0m 4ms/step\n"
     ]
    }
   ],
   "source": [
    "# Evaluate model on testing data\n",
    "test_lossCNN2, test_accCNN2 = model.evaluate(X_testCNN2, y_testCNN2)\n",
    "print(\"Test accuracy: \", test_accCNN2)\n",
    "\n",
    "# Predictions\n",
    "y_pred_prob = model.predict(X_testCNN2)\n",
    "y_predCNN2 = (y_pred_prob > 0.5).astype(int).flatten()"
   ]
  },
  {
   "cell_type": "raw",
   "id": "fe561c04",
   "metadata": {
    "papermill": {
     "duration": 0.740804,
     "end_time": "2025-06-02T05:31:45.161002",
     "exception": false,
     "start_time": "2025-06-02T05:31:44.420198",
     "status": "completed"
    },
    "tags": []
   },
   "source": [
    "print(y_predCNN2)"
   ]
  },
  {
   "cell_type": "code",
   "execution_count": 23,
   "id": "6706496e",
   "metadata": {
    "execution": {
     "iopub.execute_input": "2025-06-02T05:31:46.794129Z",
     "iopub.status.busy": "2025-06-02T05:31:46.793857Z",
     "iopub.status.idle": "2025-06-02T05:31:47.084482Z",
     "shell.execute_reply": "2025-06-02T05:31:47.083703Z"
    },
    "papermill": {
     "duration": 1.133216,
     "end_time": "2025-06-02T05:31:47.085740",
     "exception": false,
     "start_time": "2025-06-02T05:31:45.952524",
     "status": "completed"
    },
    "tags": []
   },
   "outputs": [
    {
     "data": {
      "image/png": "[encoded data removed]",
      "text/plain": [
       "<Figure size 1200x400 with 2 Axes>"
      ]
     },
     "metadata": {},
     "output_type": "display_data"
    }
   ],
   "source": [
    "# Plot training history\n",
    "plt.figure(figsize=(12, 4))\n",
    "\n",
    "# Accuracy plot\n",
    "plt.subplot(1, 2, 1)\n",
    "plt.plot(history.history['accuracy'], label='Train Accuracy')\n",
    "plt.plot(history.history['val_accuracy'], label='Validation Accuracy')\n",
    "plt.title('Model Accuracy')\n",
    "plt.xlabel('Epoch')\n",
    "plt.ylabel('Accuracy')\n",
    "plt.legend()\n",
    "\n",
    "# Loss plot\n",
    "plt.subplot(1, 2, 2)\n",
    "plt.plot(history.history['loss'], label='Train Loss')\n",
    "plt.plot(history.history['val_loss'], label='Validation Loss')\n",
    "plt.title('Model Loss')\n",
    "plt.xlabel('Epoch')\n",
    "plt.ylabel('Loss')\n",
    "plt.legend()\n",
    "\n",
    "plt.show()"
   ]
  },
  {
   "cell_type": "code",
   "execution_count": 24,
   "id": "6208e143",
   "metadata": {
    "execution": {
     "iopub.execute_input": "2025-06-02T05:31:48.632103Z",
     "iopub.status.busy": "2025-06-02T05:31:48.631805Z",
     "iopub.status.idle": "2025-06-02T05:31:48.643233Z",
     "shell.execute_reply": "2025-06-02T05:31:48.642484Z"
    },
    "papermill": {
     "duration": 0.815789,
     "end_time": "2025-06-02T05:31:48.644253",
     "exception": false,
     "start_time": "2025-06-02T05:31:47.828464",
     "status": "completed"
    },
    "tags": []
   },
   "outputs": [
    {
     "name": "stdout",
     "output_type": "stream",
     "text": [
      "\n",
      "Classification Report:\n",
      "              precision    recall  f1-score   support\n",
      "\n",
      "         Cat       0.96      0.85      0.90      2496\n",
      "         Dog       0.86      0.96      0.91      2494\n",
      "\n",
      "    accuracy                           0.91      4990\n",
      "   macro avg       0.91      0.91      0.91      4990\n",
      "weighted avg       0.91      0.91      0.91      4990\n",
      "\n"
     ]
    }
   ],
   "source": [
    "# Classification report\n",
    "print(\"\\nClassification Report:\")\n",
    "print(classification_report(y_testCNN2, y_predCNN2, target_names=[\"Cat\", \"Dog\"]))"
   ]
  },
  {
   "cell_type": "code",
   "execution_count": 25,
   "id": "2e9b2892",
   "metadata": {
    "execution": {
     "iopub.execute_input": "2025-06-02T05:31:50.320579Z",
     "iopub.status.busy": "2025-06-02T05:31:50.320307Z",
     "iopub.status.idle": "2025-06-02T05:31:50.450840Z",
     "shell.execute_reply": "2025-06-02T05:31:50.450259Z"
    },
    "papermill": {
     "duration": 0.988407,
     "end_time": "2025-06-02T05:31:50.452125",
     "exception": false,
     "start_time": "2025-06-02T05:31:49.463718",
     "status": "completed"
    },
    "tags": []
   },
   "outputs": [
    {
     "data": {
      "image/png": "[encoded data removed]",
      "text/plain": [
       "<Figure size 600x400 with 2 Axes>"
      ]
     },
     "metadata": {},
     "output_type": "display_data"
    }
   ],
   "source": [
    "# Confusion matrix\n",
    "cm = confusion_matrix(y_testCNN2, y_predCNN2)\n",
    "plt.figure(figsize=(6, 4))\n",
    "sns.heatmap(cm, annot=True, fmt=\"d\", cmap=\"Blues\", xticklabels=[\"Cat\", \"Dog\"], yticklabels=[\"Cat\", \"Dog\"])\n",
    "plt.title(\"Confusion Matrix\")\n",
    "plt.xlabel(\"Predicted\")\n",
    "plt.ylabel(\"Actual\")\n",
    "plt.show()"
   ]
  },
  {
   "cell_type": "markdown",
   "id": "25a81de0",
   "metadata": {
    "papermill": {
     "duration": 0.798795,
     "end_time": "2025-06-02T05:31:52.004782",
     "exception": false,
     "start_time": "2025-06-02T05:31:51.205987",
     "status": "completed"
    },
    "tags": []
   },
   "source": [
    "## Saving the model"
   ]
  },
  {
   "cell_type": "code",
   "execution_count": 26,
   "id": "90ca37ec",
   "metadata": {
    "execution": {
     "iopub.execute_input": "2025-06-02T05:31:53.542771Z",
     "iopub.status.busy": "2025-06-02T05:31:53.542485Z",
     "iopub.status.idle": "2025-06-02T05:31:53.597285Z",
     "shell.execute_reply": "2025-06-02T05:31:53.596534Z"
    },
    "papermill": {
     "duration": 0.856437,
     "end_time": "2025-06-02T05:31:53.598606",
     "exception": false,
     "start_time": "2025-06-02T05:31:52.742169",
     "status": "completed"
    },
    "tags": []
   },
   "outputs": [],
   "source": [
    "# Save the model\n",
    "model.save('best_cnn_model.h5')"
   ]
  },
  {
   "cell_type": "markdown",
   "id": "b787e9c7",
   "metadata": {
    "papermill": {
     "duration": 0.743537,
     "end_time": "2025-06-02T05:31:55.154292",
     "exception": false,
     "start_time": "2025-06-02T05:31:54.410755",
     "status": "completed"
    },
    "tags": []
   },
   "source": [
    "# Note: After training the model with various parameters, including adjustments to the number of epochs, early stopping patience, and batch size, we achieved the best accuracy of 0.92. This model demonstrates balanced precision, recall, and F1-score for both Cat and Dog classes, making it the optimal choice based on the second confusion matrix and classification report."
   ]
  },
  {
   "cell_type": "markdown",
   "id": "dcccb7a7",
   "metadata": {
    "papermill": {
     "duration": 0.851807,
     "end_time": "2025-06-02T05:31:56.804875",
     "exception": false,
     "start_time": "2025-06-02T05:31:55.953068",
     "status": "completed"
    },
    "tags": []
   },
   "source": [
    "___"
   ]
  },
  {
   "cell_type": "code",
   "execution_count": null,
   "id": "da6be3d5",
   "metadata": {
    "papermill": {
     "duration": 0.803422,
     "end_time": "2025-06-02T05:31:58.349724",
     "exception": false,
     "start_time": "2025-06-02T05:31:57.546302",
     "status": "completed"
    },
    "tags": []
   },
   "outputs": [],
   "source": []
  }
 ],
 "metadata": {
  "kaggle": {
   "accelerator": "gpu",
   "dataSources": [
    {
     "datasetId": 3829311,
     "sourceId": 6633136,
     "sourceType": "datasetVersion"
    }
   ],
   "dockerImageVersionId": 31041,
   "isGpuEnabled": true,
   "isInternetEnabled": true,
   "language": "python",
   "sourceType": "notebook"
  },
  "kernelspec": {
   "display_name": "Python 3",
   "language": "python",
   "name": "python3"
  },
  "language_info": {
   "codemirror_mode": {
    "name": "ipython",
    "version": 3
   },
   "file_extension": ".py",
   "mimetype": "text/x-python",
   "name": "python",
   "nbconvert_exporter": "python",
   "pygments_lexer": "ipython3",
   "version": "3.11.11"
  },
  "papermill": {
   "default_parameters": {},
   "duration": 3242.713157,
   "end_time": "2025-06-02T05:32:01.908016",
   "environment_variables": {},
   "exception": null,
   "input_path": "__notebook__.ipynb",
   "output_path": "__notebook__.ipynb",
   "parameters": {},
   "start_time": "2025-06-02T04:37:59.194859",
   "version": "2.6.0"
  }
 },
 "nbformat": 4,
 "nbformat_minor": 5
}
